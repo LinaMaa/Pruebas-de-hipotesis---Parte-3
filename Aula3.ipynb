{
  "nbformat": 4,
  "nbformat_minor": 0,
  "metadata": {
    "colab": {
      "name": "Aula3.ipynb",
      "provenance": [],
      "collapsed_sections": [],
      "toc_visible": true
    },
    "kernelspec": {
      "display_name": "Python 3",
      "language": "python",
      "name": "python3"
    },
    "language_info": {
      "codemirror_mode": {
        "name": "ipython",
        "version": 3
      },
      "file_extension": ".py",
      "mimetype": "text/x-python",
      "name": "python",
      "nbconvert_exporter": "python",
      "pygments_lexer": "ipython3",
      "version": "3.6.5"
    }
  },
  "cells": [
    {
      "cell_type": "markdown",
      "metadata": {
        "id": "WvMflodMjQKe"
      },
      "source": [
        "# <font color=green size=10>CURSO DE ESTADÍSTICA - PARTE 3</font>\n",
        "\n",
        "***"
      ]
    },
    {
      "cell_type": "markdown",
      "metadata": {
        "id": "miGOADKYpsjn"
      },
      "source": [
        "# <font color=green>3. PRUEBA DE HIPÓTESIS PARA UNA MEDIA </font>\n",
        "***"
      ]
    },
    {
      "cell_type": "markdown",
      "metadata": {
        "id": "FwedfiP3oWnO"
      },
      "source": [
        "## <font color=green>3.2 Prueba Unilateral</font>"
      ]
    },
    {
      "cell_type": "markdown",
      "metadata": {
        "id": "EZRUqJoO3elR"
      },
      "source": [
        "### **Problema**"
      ]
    },
    {
      "cell_type": "markdown",
      "metadata": {
        "id": "8JqBjdlIpaU5"
      },
      "source": [
        "Una cadena de comidas rápidas que se dedica a vender únicamente snacks típicos de Colombia, **afirma que el tiempo medio para servir uno de esos snacks es de aproximadamente 12 minutos**. Una empresa que investiga casos de publicidad engañosa **sospecha que ese tiempo es mayor**. Con el fin de probar la afirmación de la cadena, la empresa selecciona aleatoriamente **una muestra de 100 snacks** en varios establecimientos de esta cadena y que serven este tipo de productos, y mide el tiempo que demoran en servir cada uno. \n",
        "**Asumiendo que esa población se distribuye aproximadamente como una normal** y considerando un **nivel de significancia del 5%** ¿qué se puede concluir sobre la declaración de la cadena? \n"
      ]
    },
    {
      "cell_type": "markdown",
      "metadata": {
        "id": "cjPOt9xTpEny"
      },
      "source": [
        "Si denotamos por \\\\\n",
        "<font color='blue'>$\\mu$</font> $\\Rightarrow$ el tiempo medio en servir uno snacks. \\\\\n",
        "<font color='red'>$\\mu_0$</font> $\\Rightarrow$ el tiempo medio de referencia. \\\\\n",
        "\n",
        "las hipótesis que queremos probar son \\\\\n",
        "\n",
        "$\n",
        "\\begin{cases}\n",
        "H_0: \\mu = 12\\\\\n",
        "H_1: \\mu > 12\n",
        "\\end{cases}\n",
        "$\n",
        "\n",
        "observe que  <font color='red'>$\\mu_0 = 12$.</font>\n",
        "\n",
        "***"
      ]
    },
    {
      "cell_type": "markdown",
      "metadata": {
        "id": "fb52sd-_wUVF"
      },
      "source": [
        "**Datos del problema**"
      ]
    },
    {
      "cell_type": "code",
      "metadata": {
        "id": "V_EVCMSlcwlq"
      },
      "source": [
        "muestra_snacks = [21.99, 22.83, 12.82, 17.57, 13.22, 16.88, 12.52,  7.51, 12.03, 13.63,\n",
        "                  15.82, 17.27, 11.04,  5.47, 17.55, 21.21, 13.40, 10.83, 12.24, 16.67,\n",
        "                  10.81, 17.33, 11.10,  4.40,  6.22, 10.48, 16.96,  2.77, 19.80, 14.79,\n",
        "                  15.64, 16.90, 14.89, 12.88, 15.80, 11.10,  6.81, 18.45, 20.11, 16.07,\n",
        "                  14.90, 15.43, 19.16,  9.92, 20.56, 18.50, 13.32, 14.11, 27.95, 12.10,\n",
        "                  16.74,  8.76, 16.94, 14.83,  6.62, 13.47, 14.04,  5.12, 13.45,  9.80,\n",
        "                  12.21, 16.95, 16.72, 11.95,  8.82,  4.15,  8.35, 15.13, 12.90, 11.93,\n",
        "                  14.79, 19.91, 12.75,  5.97,  5.08, 19.19, 10.82,  9.66, 16.52, 16.80,\n",
        "                  16.22, 19.81, 18.40, 20.73,  5.87,  9.83, 16.72, 16.44, 25.38, 23.08,\n",
        "                  3.43,  17.90,  8.56,  9.48, 11.36, 17.08, 12.81, 15.03, 20.50, 12.22]"
      ],
      "execution_count": null,
      "outputs": []
    },
    {
      "cell_type": "code",
      "metadata": {
        "colab": {
          "base_uri": "https://localhost:8080/",
          "height": 415
        },
        "id": "WBkuCaJuyf6v",
        "outputId": "2d3c3a50-3779-41f3-88fc-76421880cf4e"
      },
      "source": [
        "muestra_snacks = pd.DataFrame(muestra_snacks, columns=['muestra_snacks'])\r\n",
        "muestra_snacks"
      ],
      "execution_count": null,
      "outputs": [
        {
          "output_type": "execute_result",
          "data": {
            "text/html": [
              "<div>\n",
              "<style scoped>\n",
              "    .dataframe tbody tr th:only-of-type {\n",
              "        vertical-align: middle;\n",
              "    }\n",
              "\n",
              "    .dataframe tbody tr th {\n",
              "        vertical-align: top;\n",
              "    }\n",
              "\n",
              "    .dataframe thead th {\n",
              "        text-align: right;\n",
              "    }\n",
              "</style>\n",
              "<table border=\"1\" class=\"dataframe\">\n",
              "  <thead>\n",
              "    <tr style=\"text-align: right;\">\n",
              "      <th></th>\n",
              "      <th>muestra_snacks</th>\n",
              "    </tr>\n",
              "  </thead>\n",
              "  <tbody>\n",
              "    <tr>\n",
              "      <th>0</th>\n",
              "      <td>21.99</td>\n",
              "    </tr>\n",
              "    <tr>\n",
              "      <th>1</th>\n",
              "      <td>22.83</td>\n",
              "    </tr>\n",
              "    <tr>\n",
              "      <th>2</th>\n",
              "      <td>12.82</td>\n",
              "    </tr>\n",
              "    <tr>\n",
              "      <th>3</th>\n",
              "      <td>17.57</td>\n",
              "    </tr>\n",
              "    <tr>\n",
              "      <th>4</th>\n",
              "      <td>13.22</td>\n",
              "    </tr>\n",
              "    <tr>\n",
              "      <th>...</th>\n",
              "      <td>...</td>\n",
              "    </tr>\n",
              "    <tr>\n",
              "      <th>95</th>\n",
              "      <td>17.08</td>\n",
              "    </tr>\n",
              "    <tr>\n",
              "      <th>96</th>\n",
              "      <td>12.81</td>\n",
              "    </tr>\n",
              "    <tr>\n",
              "      <th>97</th>\n",
              "      <td>15.03</td>\n",
              "    </tr>\n",
              "    <tr>\n",
              "      <th>98</th>\n",
              "      <td>20.50</td>\n",
              "    </tr>\n",
              "    <tr>\n",
              "      <th>99</th>\n",
              "      <td>12.22</td>\n",
              "    </tr>\n",
              "  </tbody>\n",
              "</table>\n",
              "<p>100 rows × 1 columns</p>\n",
              "</div>"
            ],
            "text/plain": [
              "    muestra_snacks\n",
              "0            21.99\n",
              "1            22.83\n",
              "2            12.82\n",
              "3            17.57\n",
              "4            13.22\n",
              "..             ...\n",
              "95           17.08\n",
              "96           12.81\n",
              "97           15.03\n",
              "98           20.50\n",
              "99           12.22\n",
              "\n",
              "[100 rows x 1 columns]"
            ]
          },
          "metadata": {
            "tags": []
          },
          "execution_count": 37
        }
      ]
    },
    {
      "cell_type": "code",
      "metadata": {
        "id": "o79V-QlFxIWY"
      },
      "source": [
        "mu_0 = 12\n",
        "significancia = 0.05\n",
        "confianza = 1 - significancia\n",
        "n = 100"
      ],
      "execution_count": null,
      "outputs": []
    },
    {
      "cell_type": "markdown",
      "metadata": {
        "id": "xyh6COJJkbe1"
      },
      "source": [
        "#### **Haciendo cálculos**"
      ]
    },
    {
      "cell_type": "markdown",
      "metadata": {
        "id": "XZod51VCY7s7"
      },
      "source": [
        "**Paso 1: Establecer las hipótesis $H_0$ y $H_1$**\n",
        "\n",
        "$\\mu\\Rightarrow$ el tiempo medio en servir uno snacks.\n",
        "\n",
        "$\n",
        "\\begin{cases}\n",
        "H_0: \\mu \\leq 12   \\\\\n",
        "H_1: \\mu > 12\n",
        "\\end{cases}\n",
        "$\n",
        "\n",
        "En este caso tenemos:\n",
        ">- Una prueba unilateral a derecha \n",
        ">- El valor de referencia es  <font color='red'>$\\mu_0 = 12 $</font>. \n",
        "\n"
      ]
    },
    {
      "cell_type": "markdown",
      "metadata": {
        "id": "EWmZ2yDDaVoy"
      },
      "source": [
        "**Paso 2: Fijar el nivel de significancia $\\alpha$ de la prueba**\n",
        "\n",
        "$\\alpha = 0,05$"
      ]
    },
    {
      "cell_type": "markdown",
      "metadata": {
        "id": "cKZiMRITagmb"
      },
      "source": [
        "**Paso 3: Determinar la distribución de muestreo y Estadística de prueba adecuada**"
      ]
    },
    {
      "cell_type": "markdown",
      "metadata": {
        "id": "JN7TM8YOlTw6"
      },
      "source": [
        "![Resumen una media](https://caelum-online-public.s3.amazonaws.com/ESP-1778-estadistica-con-python-test-hipotesis/Resumen_mu.png)"
      ]
    },
    {
      "cell_type": "markdown",
      "metadata": {
        "id": "PdC2pCnNyucA"
      },
      "source": [
        "Como la muestra es normal y $\\sigma$ es desconocido, **la estadística de prueba adecuada** es \n",
        "\n",
        "$$T=\\frac{\\overline{X} - \\mu_0}{S/\\sqrt{n}}$$\n",
        "\n",
        "Sabemos que $T$ se distribuye $t$-Student con $n-1$ grados de libertad."
      ]
    },
    {
      "cell_type": "code",
      "metadata": {
        "colab": {
          "base_uri": "https://localhost:8080/"
        },
        "id": "oy5dNp5Vy21n",
        "outputId": "cfac73e6-1ed3-4c88-9f6d-879e47ae2d52"
      },
      "source": [
        "media_muestral = muestra_snacks.mean()[0]\r\n",
        "media_muestral"
      ],
      "execution_count": null,
      "outputs": [
        {
          "output_type": "execute_result",
          "data": {
            "text/plain": [
              "13.9298"
            ]
          },
          "metadata": {
            "tags": []
          },
          "execution_count": 39
        }
      ]
    },
    {
      "cell_type": "code",
      "metadata": {
        "colab": {
          "base_uri": "https://localhost:8080/"
        },
        "id": "mB78q99py2nt",
        "outputId": "2b0ec007-48af-47f5-e94e-f639ef7525f3"
      },
      "source": [
        "desviacion_muestral = muestra_snacks.std()[0]\r\n",
        "desviacion_muestral"
      ],
      "execution_count": null,
      "outputs": [
        {
          "output_type": "execute_result",
          "data": {
            "text/plain": [
              "5.01503496669482"
            ]
          },
          "metadata": {
            "tags": []
          },
          "execution_count": 40
        }
      ]
    },
    {
      "cell_type": "code",
      "metadata": {
        "colab": {
          "base_uri": "https://localhost:8080/"
        },
        "id": "JqlhqHbAy2bp",
        "outputId": "7e0ea62f-b5a9-4801-9291-5279406f7bc7"
      },
      "source": [
        "T = (media_muestral - mu_0)/(desviacion_muestral/np.sqrt(n))\r\n",
        "T"
      ],
      "execution_count": null,
      "outputs": [
        {
          "output_type": "execute_result",
          "data": {
            "text/plain": [
              "3.8480290024215784"
            ]
          },
          "metadata": {
            "tags": []
          },
          "execution_count": 41
        }
      ]
    },
    {
      "cell_type": "markdown",
      "metadata": {
        "id": "XTOh5P2UaqYO"
      },
      "source": [
        "**Paso 4: Determinar la región crítica**"
      ]
    },
    {
      "cell_type": "markdown",
      "metadata": {
        "id": "OVTjF-F6lzrR"
      },
      "source": [
        "![Region Critica Snacks](https://caelum-online-public.s3.amazonaws.com/ESP-1778-estadistica-con-python-test-hipotesis/Region_Critica_Snacks.png)"
      ]
    },
    {
      "cell_type": "markdown",
      "metadata": {
        "id": "2YV6lz-z9sAw"
      },
      "source": [
        "Obteniendo $t_\\alpha$\n",
        "\n",
        "\n",
        "https://docs.scipy.org/doc/scipy/reference/generated/scipy.stats.t.html"
      ]
    },
    {
      "cell_type": "code",
      "metadata": {
        "id": "u07KgoZ7Y6cv"
      },
      "source": [
        "from scipy.stats import t as t_student"
      ],
      "execution_count": null,
      "outputs": []
    },
    {
      "cell_type": "code",
      "metadata": {
        "id": "Flv1u5wq_RBW"
      },
      "source": [
        "grados_libertad = n-1\r\n"
      ],
      "execution_count": null,
      "outputs": []
    },
    {
      "cell_type": "code",
      "metadata": {
        "colab": {
          "base_uri": "https://localhost:8080/"
        },
        "id": "yqsSu-LdzCZC",
        "outputId": "9e48bb26-e54b-4f93-9dbe-396833a2ca01"
      },
      "source": [
        "t_alpha = t_student.ppf(confianza, grados_libertad)\r\n",
        "t_alpha"
      ],
      "execution_count": null,
      "outputs": [
        {
          "output_type": "execute_result",
          "data": {
            "text/plain": [
              "1.6603911559963895"
            ]
          },
          "metadata": {
            "tags": []
          },
          "execution_count": 44
        }
      ]
    },
    {
      "cell_type": "markdown",
      "metadata": {
        "id": "vam-xtWg_xj2"
      },
      "source": [
        "Por lo tanto, la Región Crítica es como sigue"
      ]
    },
    {
      "cell_type": "markdown",
      "metadata": {
        "id": "cDirGLUymEt_"
      },
      "source": [
        "![Valor Critico Snacks](https://caelum-online-public.s3.amazonaws.com/ESP-1778-estadistica-con-python-test-hipotesis/Valor_Critico_Snacks.png)"
      ]
    },
    {
      "cell_type": "markdown",
      "metadata": {
        "id": "VNlNz6b-a1r5"
      },
      "source": [
        "**Paso 5: Tomar la decisión y concluir**\n",
        "\n",
        "<font color='red'>¿$T = 3,85$ está en la Región Crítica?</font> o equivalentemente <font color='red'> ¿ $T \\geq 1,66$?</font>"
      ]
    },
    {
      "cell_type": "code",
      "metadata": {
        "colab": {
          "base_uri": "https://localhost:8080/"
        },
        "id": "8tqlMrYWzFFn",
        "outputId": "737c3eb1-d52a-4d17-a913-c388ae8fe660"
      },
      "source": [
        " T > t_alpha "
      ],
      "execution_count": null,
      "outputs": [
        {
          "output_type": "execute_result",
          "data": {
            "text/plain": [
              "True"
            ]
          },
          "metadata": {
            "tags": []
          },
          "execution_count": 45
        }
      ]
    },
    {
      "cell_type": "markdown",
      "metadata": {
        "id": "eVHRW_KRHO7c"
      },
      "source": [
        "Observe que <font color='red'>$T \\geq 1,66$</font> y por lo tanto hay suficiente evidencia en la muestra para <font color='red'>rechazar $H_0$</font>."
      ]
    },
    {
      "cell_type": "markdown",
      "metadata": {
        "id": "5brm7jaAmjaI"
      },
      "source": [
        "![Decision Snacks](https://caelum-online-public.s3.amazonaws.com/ESP-1778-estadistica-con-python-test-hipotesis/Decision_Snacks.png)"
      ]
    },
    {
      "cell_type": "markdown",
      "metadata": {
        "id": "W8J-usmKINRc"
      },
      "source": [
        "<font color='red'>Rechazamos $H_0$ si $p$-valor $\\leq \\alpha$.</font>"
      ]
    },
    {
      "cell_type": "markdown",
      "metadata": {
        "id": "f5Mg-HmIIgbv"
      },
      "source": [
        "Recordemos que cuando la prueba es unilateral a derecha $(H_1: \\mu > 12)$ el $p$-valor se calcula como \n",
        "\n",
        "$$p-\\textrm{valor}= P(W \\geq T) = 1-P(W < T)$$."
      ]
    },
    {
      "cell_type": "markdown",
      "metadata": {
        "id": "aRRZ451YfnvN"
      },
      "source": [
        " o si $p-\\textrm{valor}\\leq \\alpha$"
      ]
    },
    {
      "cell_type": "code",
      "metadata": {
        "colab": {
          "base_uri": "https://localhost:8080/"
        },
        "id": "YISmhvlBzJJI",
        "outputId": "d2b91137-b772-42d7-eade-4544e8ad08b9"
      },
      "source": [
        "p_valor = t_student.sf(T,grados_libertad)\r\n",
        "p_valor"
      ],
      "execution_count": null,
      "outputs": [
        {
          "output_type": "execute_result",
          "data": {
            "text/plain": [
              "0.00010549375091642149"
            ]
          },
          "metadata": {
            "tags": []
          },
          "execution_count": 46
        }
      ]
    },
    {
      "cell_type": "code",
      "metadata": {
        "colab": {
          "base_uri": "https://localhost:8080/"
        },
        "id": "lVGDiUCjzI97",
        "outputId": "91c962d1-b58f-4a4f-bd96-b2237a865f57"
      },
      "source": [
        "p_valor = 1- t_student.cdf(T,grados_libertad)\r\n",
        "p_valor"
      ],
      "execution_count": null,
      "outputs": [
        {
          "output_type": "execute_result",
          "data": {
            "text/plain": [
              "0.00010549375091639668"
            ]
          },
          "metadata": {
            "tags": []
          },
          "execution_count": 47
        }
      ]
    },
    {
      "cell_type": "code",
      "metadata": {
        "colab": {
          "base_uri": "https://localhost:8080/"
        },
        "id": "BC_dfbdFzIxs",
        "outputId": "12760282-921c-422a-9339-aa8a28958dcb"
      },
      "source": [
        "p_valor <= 0.05"
      ],
      "execution_count": null,
      "outputs": [
        {
          "output_type": "execute_result",
          "data": {
            "text/plain": [
              "True"
            ]
          },
          "metadata": {
            "tags": []
          },
          "execution_count": 48
        }
      ]
    },
    {
      "cell_type": "markdown",
      "metadata": {
        "id": "oQuH5jXRLQSe"
      },
      "source": [
        "Observe que <font color='red'>$p-\\textrm{valor} \\leq \\alpha$</font>, por lo tanto hay suficiente evidencia en la muestra para <font color='red'>rechazar $H_0$</font>."
      ]
    },
    {
      "cell_type": "markdown",
      "metadata": {
        "id": "1OvF5Tq7LcIR"
      },
      "source": [
        "<font color='blue'>**Conclusión:** Se rechaza la hipótesis nula $H_0$ de que la cadena de comidas rápidas demora en promedio 12 minutos en servir un snacks. Entonces,  la empresa confirma sus sospechas de propaganda engañosa.</font>"
      ]
    },
    {
      "cell_type": "markdown",
      "metadata": {
        "id": "Kx4L0K6qZI1b"
      },
      "source": [
        "#### Usando biblioteca de Phyton"
      ]
    },
    {
      "cell_type": "markdown",
      "metadata": {
        "id": "C3nc-fNCkcWp"
      },
      "source": [
        "<font color='red'>Usando DescrStatsW</font>\n",
        "\n",
        "https://www.statsmodels.org/dev/generated/statsmodels.stats.weightstats.DescrStatsW.html\n",
        "\n"
      ]
    },
    {
      "cell_type": "code",
      "metadata": {
        "id": "F9xg6Mjhl68C"
      },
      "source": [
        "from statsmodels.stats.weightstats import DescrStatsW"
      ],
      "execution_count": null,
      "outputs": []
    },
    {
      "cell_type": "code",
      "metadata": {
        "id": "dnNO8W3bbm60"
      },
      "source": [
        "test = DescrStatsW(muestra_snacks)"
      ],
      "execution_count": null,
      "outputs": []
    },
    {
      "cell_type": "code",
      "metadata": {
        "colab": {
          "base_uri": "https://localhost:8080/"
        },
        "id": "gtja36OUzScM",
        "outputId": "fb27c985-c740-43c4-c66d-6d41ea24c66e"
      },
      "source": [
        "test.ttest_mean(value = mu_0,alternative = 'larger')"
      ],
      "execution_count": null,
      "outputs": [
        {
          "output_type": "execute_result",
          "data": {
            "text/plain": [
              "(array([3.848029]), array([0.00010549]), 99.0)"
            ]
          },
          "metadata": {
            "tags": []
          },
          "execution_count": 51
        }
      ]
    },
    {
      "cell_type": "code",
      "metadata": {
        "colab": {
          "base_uri": "https://localhost:8080/"
        },
        "id": "NCEdYR5MzUED",
        "outputId": "a0f48d45-c561-44a9-9ece-45afcfdeb510"
      },
      "source": [
        "t,p_valor, gl = test.ttest_mean(value = mu_0,alternative = 'larger')\r\n",
        "print(p_valor[0])"
      ],
      "execution_count": null,
      "outputs": [
        {
          "output_type": "stream",
          "text": [
            "0.00010549375091642149\n"
          ],
          "name": "stdout"
        }
      ]
    },
    {
      "cell_type": "code",
      "metadata": {
        "colab": {
          "base_uri": "https://localhost:8080/"
        },
        "id": "prQMWSEYzWrJ",
        "outputId": "1f8d256f-016f-42b5-e661-f7c744951486"
      },
      "source": [
        "p_valor [0] <=0.05"
      ],
      "execution_count": null,
      "outputs": [
        {
          "output_type": "execute_result",
          "data": {
            "text/plain": [
              "True"
            ]
          },
          "metadata": {
            "tags": []
          },
          "execution_count": 53
        }
      ]
    },
    {
      "cell_type": "markdown",
      "metadata": {
        "id": "_qdSWO9TqtOX"
      },
      "source": [
        "Observe que <font color='red'>$p-\\textrm{valor} \\leq \\alpha$</font>, por lo tanto hay suficiente evidencia en la muestra para <font color='red'>rechazar $H_0$</font>."
      ]
    },
    {
      "cell_type": "markdown",
      "metadata": {
        "id": "Ng7B9ZWcq0Iq"
      },
      "source": [
        "<font color='blue'> **Conclusión:** Se rechaza la hipótesis nula $H_0$ de que la cadena de comidas rápidas demora en promedio 12 minutos en servir un snacks. Entonces,  la empresa confirma sus sospechas de propaganda engañosa.</font>"
      ]
    },
    {
      "cell_type": "markdown",
      "metadata": {
        "id": "cQ093ADMsAYS"
      },
      "source": [
        "**Suponiendo que la única información distribucional que tenemos es que la desviación estándar poblacional es 6 minutos ¿ se mantendrá la misma conclusión de que la cadena está haciendo propaganda engañosa?**"
      ]
    },
    {
      "cell_type": "markdown",
      "metadata": {
        "id": "pIDRqY9tv95d"
      },
      "source": [
        "<font color='red'> Tenga en cuenta que</font>\n",
        ">- No podemos afirmar que la muestra proviene de una normal.\n",
        ">- La desviación estándar poblacional $\\sigma$ es conocida ($\\sigma = 6$).\n",
        ">- $n=100$ es grande."
      ]
    },
    {
      "cell_type": "markdown",
      "metadata": {
        "id": "D8SE3qOum6E5"
      },
      "source": [
        "![Resumen una media](https://caelum-online-public.s3.amazonaws.com/ESP-1778-estadistica-con-python-test-hipotesis/Resumen_mu.png)"
      ]
    },
    {
      "cell_type": "markdown",
      "metadata": {
        "id": "WMuLnlr_yLJG"
      },
      "source": [
        "<font color='red'>Usando DescrStatsW</font>\n",
        "\n",
        "https://www.statsmodels.org/dev/generated/statsmodels.stats.weightstats.DescrStatsW.html"
      ]
    },
    {
      "cell_type": "code",
      "metadata": {
        "id": "UAa-3WA5yPfZ"
      },
      "source": [
        "test = DescrStatsW(muestra_snacks)"
      ],
      "execution_count": null,
      "outputs": []
    },
    {
      "cell_type": "code",
      "metadata": {
        "colab": {
          "base_uri": "https://localhost:8080/"
        },
        "id": "iZSRuyj1zZtZ",
        "outputId": "b80002ad-cd0f-4a32-cb15-d2cc42686984"
      },
      "source": [
        "t,p_valor = test.ztest_mean(value = mu_0,alternative = 'larger')\r\n",
        "print(p_valor[0])"
      ],
      "execution_count": null,
      "outputs": [
        {
          "output_type": "stream",
          "text": [
            "5.953597980201217e-05\n"
          ],
          "name": "stdout"
        }
      ]
    },
    {
      "cell_type": "code",
      "metadata": {
        "colab": {
          "base_uri": "https://localhost:8080/"
        },
        "id": "2CxPXcpSzbqh",
        "outputId": "6e7fa088-fdf3-457f-c54b-dbf79e9cf589"
      },
      "source": [
        "p_valor[0] <= 0.05"
      ],
      "execution_count": null,
      "outputs": [
        {
          "output_type": "execute_result",
          "data": {
            "text/plain": [
              "True"
            ]
          },
          "metadata": {
            "tags": []
          },
          "execution_count": 56
        }
      ]
    },
    {
      "cell_type": "code",
      "metadata": {
        "id": "3NwfLDKAcuiI"
      },
      "source": [
        ""
      ],
      "execution_count": null,
      "outputs": []
    },
    {
      "cell_type": "markdown",
      "metadata": {
        "id": "tKQDzRqZ_QWa"
      },
      "source": [
        "Observe que <font color='red'>$p-\\textrm{valor} \\leq \\alpha$</font>, por lo tanto hay suficiente evidencia en la muestra para <font color='red'>rechazar $H_0$</font>."
      ]
    },
    {
      "cell_type": "markdown",
      "metadata": {
        "id": "hMlPjnTgzDor"
      },
      "source": [
        "<font color='red'>Note que los resultados son cercanos y que las conclusiones son las mismas. Esto sucede cuando $n$ es grande, pues la distribución $t$-Student queda muy próxima a la distribución normal</font>."
      ]
    },
    {
      "cell_type": "markdown",
      "metadata": {
        "id": "Hnm5igo5k2qF"
      },
      "source": [
        "### **Resumiendo**"
      ]
    },
    {
      "cell_type": "markdown",
      "metadata": {
        "id": "Azejk9BwnTR6"
      },
      "source": [
        "![Unilateral](https://caelum-online-public.s3.amazonaws.com/ESP-1778-estadistica-con-python-test-hipotesis/Unilateral.png)"
      ]
    }
  ]
}