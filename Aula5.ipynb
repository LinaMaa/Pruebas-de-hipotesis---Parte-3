{
  "nbformat": 4,
  "nbformat_minor": 0,
  "metadata": {
    "colab": {
      "name": "Aula5.ipynb",
      "provenance": [],
      "collapsed_sections": [],
      "toc_visible": true
    },
    "kernelspec": {
      "display_name": "Python 3",
      "language": "python",
      "name": "python3"
    },
    "language_info": {
      "codemirror_mode": {
        "name": "ipython",
        "version": 3
      },
      "file_extension": ".py",
      "mimetype": "text/x-python",
      "name": "python",
      "nbconvert_exporter": "python",
      "pygments_lexer": "ipython3",
      "version": "3.6.5"
    }
  },
  "cells": [
    {
      "cell_type": "markdown",
      "metadata": {
        "id": "WvMflodMjQKe"
      },
      "source": [
        "# <font color=green size=10>CURSO DE ESTADÍSTICA - PARTE 3</font>\n",
        "\n",
        "***"
      ]
    },
    {
      "cell_type": "markdown",
      "metadata": {
        "id": "IEHa9ZC_psl8"
      },
      "source": [
        "# <font color=green>5. PRUEBAS CHI-CUADRADO</font>\n",
        "***"
      ]
    },
    {
      "cell_type": "markdown",
      "metadata": {
        "id": "Rh4JPNOBYiTA"
      },
      "source": [
        "Tenemos dos tipos de pruebas Chi-Cuadrado\n",
        "> 1. Prueba de **bondad de ajuste**. \\\\\n",
        "Se compara a la distribución observada de los datos con una distribución que se espera en los datos.\n",
        "> 2. Prueba de **independencia**. \\\\\n",
        "El objetivo es verificar si dos variables cuantitativas son o no independientes."
      ]
    },
    {
      "cell_type": "markdown",
      "metadata": {
        "id": "tY6uW2psWiXZ"
      },
      "source": [
        "## **Prueba de bondad de ajuste** \n",
        "\n"
      ]
    },
    {
      "cell_type": "markdown",
      "metadata": {
        "id": "qRMbY4cMaQYn"
      },
      "source": [
        "La prueba de bondad de ajuste chi-cuadrado $(\\chi^2)$ prueba la hipótesis nula de que no hay diferencia entre las frecuencias observadas de un evento dado y las frecuencias que realmente se esperan para ese evento."
      ]
    },
    {
      "cell_type": "markdown",
      "metadata": {
        "id": "AF5oS4_ZaIQD"
      },
      "source": [
        "**Problema**\n",
        "\n",
        "Antes de cada partido del campeonato nacional de fútbol, ​​se deben revisar las monedas utilizadas por los árbitros para asegurarse de que no estan sesgadas, es decir, que no tiendan a un resultado determinado. \n",
        "Para ello, se debe realizar una prueba sencilla antes de cada partido. Esta prueba consiste en lanzar la moneda del juego **50 veces** y contar las frecuencias de las **CARAS** y de las **CRUCES** obtenidas. En la siguiente tabla se muestran los resultados obtenidos en el experimento:\n",
        "\n",
        "||CARA|CRUZ|\n",
        "|-|-|-|\n",
        "|Observado|17|33|\n",
        "|Esperado|25|25|\n",
        "\n",
        "Con un **nivel de significancia del 5%**, ¿es posible decir que la moneda no es honesta, o sea, que es más probable que caiga con la **CARA** volteada para arriba?"
      ]
    },
    {
      "cell_type": "markdown",
      "metadata": {
        "id": "pUaVFELsagCd"
      },
      "source": [
        "<font color='red'> Aqui el objetivo es verificar si los resultados del experimento indican que la distribución del número caras (o cruces) es binomial con probabilidad de éxito $0,5$.</font>"
      ]
    },
    {
      "cell_type": "markdown",
      "metadata": {
        "id": "LF1BCVoCkwgD"
      },
      "source": [
        "Si denotamos por \\\\\n",
        "\n",
        "<font color='red'>$f_{cara}$</font> $\\Rightarrow$ la frecuencia que sale  <font color='red'>cara</font>,\n",
        "\n",
        "<font color='blue'>$f_{cruz}$</font> $\\Rightarrow$ la frecuencia que sale <font color='blue'>cruz</font>,\n",
        "\n",
        "podemos plantear las hipótesis como sigue\n",
        "\n",
        "$\n",
        "\\begin{cases}\n",
        "H_0: f_{cara} = f_{cruce} \\,  \\\\\n",
        "H_1: f_{cara} \\neq f_{cruce}\n",
        "\\end{cases}\n",
        "$\n",
        "**o equivalentemente** \n",
        "$\n",
        "\\begin{cases}\n",
        "H_0:p_{caras}=p_{0i} \\\\\n",
        "H_1:p_{caras}\\neq p_{0i} \n",
        "\\end{cases}\n",
        "$\n",
        "\n",
        "en que $p_{cara}$ representa la probabilidad de que salga cara y $p_{0i}$ es la probabilidad especifica para la categoria $i$, $i=1,\\ldots,k.$ \\\\\n",
        "\n",
        "En este caso <font color='red'>$p_{0i} =  0,5$</font>."
      ]
    },
    {
      "cell_type": "markdown",
      "metadata": {
        "id": "d5z2sEztWsEY"
      },
      "source": [
        "**Datos del problema**\n"
      ]
    },
    {
      "cell_type": "code",
      "metadata": {
        "id": "fnCxX5-bWxpD"
      },
      "source": [
        "f_obs = [17, 33]\n",
        "f_esp = [25, 25]\n",
        "significancia = 0.05\n",
        "confianza = 1 - significancia\n",
        "k = 2\n"
      ],
      "execution_count": null,
      "outputs": []
    },
    {
      "cell_type": "markdown",
      "metadata": {
        "id": "oGcpPFDvpY7V"
      },
      "source": [
        "<font color='red'>Observación</font>\n",
        "\n",
        "$f^{esp}_{i} = n\\times p_{0i}$,  $i=1,\\ldots,k$.\n",
        "\n",
        "Tenemos que $k=2$, $n=50$ y $p_{0i}=0,50$, luego\n",
        "\n",
        "$f^{esp}_{1} = 50 \\times 0.50 = 25$ \\\\\n",
        "$f^{esp}_{2} = 50 \\times 0.50 = 25$\n"
      ]
    },
    {
      "cell_type": "markdown",
      "metadata": {
        "id": "gGuftxPXXN-F"
      },
      "source": [
        "#### Haciendo cálculos"
      ]
    },
    {
      "cell_type": "markdown",
      "metadata": {
        "id": "0feURobXX4Cl"
      },
      "source": [
        "**Paso 1: Establecer las hipótesis $H_0$ y $H_1$**\n",
        "\n",
        "$H_0: f_{cara} = f_{cruce}$  \\\\\n",
        "\n",
        "$H_1:  f_{cara} \\neq f_{cruce}$ \n",
        "\n",
        "siendo $f_{cara}$ la frecuencia de las caras y $f_{cruce}$ la frecuencia de las cruces."
      ]
    },
    {
      "cell_type": "markdown",
      "metadata": {
        "id": "Pr68xac6YmzW"
      },
      "source": [
        "**Paso 2: Fijar el nivel de significancia $\\alpha$ de la prueba**\n",
        "\n",
        "$\\alpha =0.05$"
      ]
    },
    {
      "cell_type": "markdown",
      "metadata": {
        "id": "g0TmxThDY0Gp"
      },
      "source": [
        "**Paso 3: Estadística de Prueba**\n",
        "\n",
        "$$ \\chi^{2} = \\sum\\limits_{i=1}^{k}\\frac{\\left(f^{obs}_{i}-f^{esp}_{i}\\right)^2}{f^{esp}_{i}}$$"
      ]
    },
    {
      "cell_type": "code",
      "metadata": {
        "colab": {
          "base_uri": "https://localhost:8080/"
        },
        "id": "q2EAWw7x0pB_",
        "outputId": "c5c892a7-877e-40e8-e845-188a6a20d804"
      },
      "source": [
        "chi_2 = ((f_obs[0]-f_esp[0])**2/f_esp[0]) + ((f_obs[1]-f_esp[1])**2/f_esp[1])\r\n",
        "chi_2"
      ],
      "execution_count": null,
      "outputs": [
        {
          "output_type": "execute_result",
          "data": {
            "text/plain": [
              "5.12"
            ]
          },
          "metadata": {
            "tags": []
          },
          "execution_count": 83
        }
      ]
    },
    {
      "cell_type": "markdown",
      "metadata": {
        "id": "jVbuySpUaaFu"
      },
      "source": [
        "**Paso 4: Determinar la región crítica**"
      ]
    },
    {
      "cell_type": "markdown",
      "metadata": {
        "id": "xwNzkNXTG4d6"
      },
      "source": [
        "![Region Critica Moneda](https://caelum-online-public.s3.amazonaws.com/ESP-1778-estadistica-con-python-test-hipotesis/Region_Critica_Moneda.png)"
      ]
    },
    {
      "cell_type": "markdown",
      "metadata": {
        "id": "Zr546tKwlRFa"
      },
      "source": [
        "Obteniendo $\\chi^{2}_{\\alpha}$"
      ]
    },
    {
      "cell_type": "markdown",
      "metadata": {
        "id": "GZG3-rH1ahkk"
      },
      "source": [
        "https://docs.scipy.org/doc/scipy/reference/generated/scipy.stats.chi.html"
      ]
    },
    {
      "cell_type": "code",
      "metadata": {
        "id": "URgJmw0Naq2r"
      },
      "source": [
        "from scipy.stats import chi"
      ],
      "execution_count": null,
      "outputs": []
    },
    {
      "cell_type": "code",
      "metadata": {
        "id": "FAY5_dhKH2oE"
      },
      "source": [
        "grados_de_libertad = k-1"
      ],
      "execution_count": null,
      "outputs": []
    },
    {
      "cell_type": "code",
      "metadata": {
        "colab": {
          "base_uri": "https://localhost:8080/"
        },
        "id": "GoyklMwc0xjg",
        "outputId": "c4a9e644-4a50-49f3-ccdc-8afe40095688"
      },
      "source": [
        "chi_2_alpha = chi.ppf(confianza,grados_de_libertad)**2\r\n",
        "chi_2_alpha"
      ],
      "execution_count": null,
      "outputs": [
        {
          "output_type": "execute_result",
          "data": {
            "text/plain": [
              "3.8414588206941245"
            ]
          },
          "metadata": {
            "tags": []
          },
          "execution_count": 86
        }
      ]
    },
    {
      "cell_type": "code",
      "metadata": {
        "id": "b-brTe6WFAI-"
      },
      "source": [
        ""
      ],
      "execution_count": null,
      "outputs": []
    },
    {
      "cell_type": "markdown",
      "metadata": {
        "id": "uA-zOC7lxmH6"
      },
      "source": [
        "La Región Crítica es como sigue"
      ]
    },
    {
      "cell_type": "markdown",
      "metadata": {
        "id": "D1MxCv95HGNl"
      },
      "source": [
        "![Valor Critico Moneda](https://caelum-online-public.s3.amazonaws.com/ESP-1778-estadistica-con-python-test-hipotesis/Valor_Critico_Moneda.png)"
      ]
    },
    {
      "cell_type": "markdown",
      "metadata": {
        "id": "0yqceVEDr4Y5"
      },
      "source": [
        "**Paso 5: Tomar la decisión y concluir**\n",
        "\n",
        "<font color='red'>¿$\\chi^{2} = 5,12$ está en la Región Crítica?</font> o equivalentemente <font color='red'> ¿ $\\chi^{2} \\geq 3,84$?</font>"
      ]
    },
    {
      "cell_type": "code",
      "metadata": {
        "colab": {
          "base_uri": "https://localhost:8080/"
        },
        "id": "8AZJiIn300kN",
        "outputId": "c549560b-19a2-44bd-e37c-b25007046c56"
      },
      "source": [
        "chi_2 >= chi_2_alpha"
      ],
      "execution_count": null,
      "outputs": [
        {
          "output_type": "execute_result",
          "data": {
            "text/plain": [
              "True"
            ]
          },
          "metadata": {
            "tags": []
          },
          "execution_count": 87
        }
      ]
    },
    {
      "cell_type": "markdown",
      "metadata": {
        "id": "PeycmT-Exsjz"
      },
      "source": [
        "Observe que <font color='red'>$\\chi^{2}≥3,84$</font> y por lo tanto hay suficiente evidencia en la muestra para <font color='red'>rechazar $H_0$</font>."
      ]
    },
    {
      "cell_type": "markdown",
      "metadata": {
        "id": "DF-vUk_9Hb8a"
      },
      "source": [
        "![Decision Moneda](https://caelum-online-public.s3.amazonaws.com/ESP-1778-estadistica-con-python-test-hipotesis/Decision_Moneda.png)"
      ]
    },
    {
      "cell_type": "markdown",
      "metadata": {
        "id": "SYgiap6lZAav"
      },
      "source": [
        "<font color='red'> Rechazamos $H_0$ si $p$-valor $\\leq \\alpha$.</font>"
      ]
    },
    {
      "cell_type": "markdown",
      "metadata": {
        "id": "tziXuVVu1PIP"
      },
      "source": [
        "El p-valor se calcula como\n",
        "\n",
        "$p-\\textrm{valor} = P\\left(\\chi^{2}_{(k-1)} \\geq \\chi^{2}_{obs}\\right)$\n"
      ]
    },
    {
      "cell_type": "code",
      "metadata": {
        "colab": {
          "base_uri": "https://localhost:8080/"
        },
        "id": "rsgCXwWw03vq",
        "outputId": "59b2f44a-18ee-44a9-ac46-d4c33913a5fc"
      },
      "source": [
        "raiz_chi_2 = np.sqrt(chi_2)\r\n",
        "raiz_chi_2"
      ],
      "execution_count": null,
      "outputs": [
        {
          "output_type": "execute_result",
          "data": {
            "text/plain": [
              "2.262741699796952"
            ]
          },
          "metadata": {
            "tags": []
          },
          "execution_count": 88
        }
      ]
    },
    {
      "cell_type": "code",
      "metadata": {
        "colab": {
          "base_uri": "https://localhost:8080/"
        },
        "id": "BYZrN0To05RV",
        "outputId": "c6deed5e-77cf-456e-f4e1-011ad0fc3672"
      },
      "source": [
        "p_valor = chi.sf(raiz_chi_2, grados_de_libertad)\r\n",
        "p_valor "
      ],
      "execution_count": null,
      "outputs": [
        {
          "output_type": "execute_result",
          "data": {
            "text/plain": [
              "0.023651616655355978"
            ]
          },
          "metadata": {
            "tags": []
          },
          "execution_count": 89
        }
      ]
    },
    {
      "cell_type": "code",
      "metadata": {
        "colab": {
          "base_uri": "https://localhost:8080/"
        },
        "id": "fSYs6cR705F5",
        "outputId": "6bff58f1-75cf-4320-b6ba-34e11e5effba"
      },
      "source": [
        "p_valor <= significancia"
      ],
      "execution_count": null,
      "outputs": [
        {
          "output_type": "execute_result",
          "data": {
            "text/plain": [
              "True"
            ]
          },
          "metadata": {
            "tags": []
          },
          "execution_count": 90
        }
      ]
    },
    {
      "cell_type": "markdown",
      "metadata": {
        "id": "tNqNyuGM63L-"
      },
      "source": [
        "Observe que <font color='red'>$p$−valor$\\leq \\alpha$</font>, por lo tanto hay suficiente evidencia en la muestra para <font color='red'>rechazar  $H_0$</font>."
      ]
    },
    {
      "cell_type": "markdown",
      "metadata": {
        "id": "TmGkThUU7S5I"
      },
      "source": [
        "<font color='blue'> **Conclusión:** rechazamos la hipótesis nula ($H_0$) y concluimos que las frecuencias observadas y esperadas son diferentes, es decir, la moneda no es honesta y necesita ser reemplazada. </font> "
      ]
    },
    {
      "cell_type": "markdown",
      "metadata": {
        "id": "wewrYqzTXdlX"
      },
      "source": [
        "#### Usando biblioteca de Phyton"
      ]
    },
    {
      "cell_type": "markdown",
      "metadata": {
        "id": "7IC1VOJh-y7O"
      },
      "source": [
        "<font color='red'> Usando chisquare</font>\n",
        "\n",
        "https://docs.scipy.org/doc/scipy/reference/generated/scipy.stats.chisquare.html"
      ]
    },
    {
      "cell_type": "code",
      "metadata": {
        "id": "qz22QTlG_KuP"
      },
      "source": [
        "from scipy.stats import chisquare"
      ],
      "execution_count": null,
      "outputs": []
    },
    {
      "cell_type": "code",
      "metadata": {
        "colab": {
          "base_uri": "https://localhost:8080/"
        },
        "id": "xLcKJOzN09Aw",
        "outputId": "13406e6c-c982-4b31-dc71-12b2b7923e91"
      },
      "source": [
        "chisquare(f_obs,f_esp)"
      ],
      "execution_count": null,
      "outputs": [
        {
          "output_type": "execute_result",
          "data": {
            "text/plain": [
              "Power_divergenceResult(statistic=5.12, pvalue=0.023651616655356)"
            ]
          },
          "metadata": {
            "tags": []
          },
          "execution_count": 92
        }
      ]
    },
    {
      "cell_type": "code",
      "metadata": {
        "colab": {
          "base_uri": "https://localhost:8080/"
        },
        "id": "2QFASpJw0-nG",
        "outputId": "ec6a7acb-f00e-4be4-ff88-aed7cc4f2a4d"
      },
      "source": [
        "chi2,p_valor = chisquare(f_obs,f_esp)\r\n",
        "print(chi2)\r\n",
        "print(p_valor)"
      ],
      "execution_count": null,
      "outputs": [
        {
          "output_type": "stream",
          "text": [
            "5.12\n",
            "0.023651616655356\n"
          ],
          "name": "stdout"
        }
      ]
    },
    {
      "cell_type": "code",
      "metadata": {
        "colab": {
          "base_uri": "https://localhost:8080/"
        },
        "id": "UzdOStoF1AUL",
        "outputId": "72e6b187-30fe-420f-cc2d-550fb3c4d95e"
      },
      "source": [
        "p_valor <= significancia"
      ],
      "execution_count": null,
      "outputs": [
        {
          "output_type": "execute_result",
          "data": {
            "text/plain": [
              "True"
            ]
          },
          "metadata": {
            "tags": []
          },
          "execution_count": 94
        }
      ]
    },
    {
      "cell_type": "markdown",
      "metadata": {
        "id": "c51z_b3DEa2g"
      },
      "source": [
        "Observe que <font color='red'>$p$−valor$\\leq \\alpha$</font>, por lo tanto hay suficiente evidencia en la muestra para <font color='red'>rechazar  $H_0$</font>."
      ]
    },
    {
      "cell_type": "markdown",
      "metadata": {
        "id": "cRLuY1guEe-B"
      },
      "source": [
        "<font color='blue'> **Conclusión:** rechazamos la hipótesis nula ($H_0$) y concluimos que las frecuencias observadas y esperadas son diferentes, es decir, la moneda no es honesta y necesita ser reemplazada. </font>"
      ]
    },
    {
      "cell_type": "markdown",
      "metadata": {
        "id": "uP16gI-gllc0"
      },
      "source": [
        "## **Generalizando**"
      ]
    },
    {
      "cell_type": "markdown",
      "metadata": {
        "id": "ssQ2yA_IlfgX"
      },
      "source": [
        "### **Estadística de prueba**\n",
        "\n",
        "Para evaluar las hipótesis se utiliza la estadística chi-cuadrado:\n",
        "$$ \\chi^{2} = \\sum\\limits_{i=1}^{k}\\frac{\\left(f^{obs}_{i}-f^{esp}_{i}\\right)^2}{f^{esp}_{i}},$$\n",
        "en que\n",
        ">- $f^{obs}_{i}$: es el valor observado en la $i$-esima categoría. \n",
        ">- $f^{esp}_{i}$: es el valor que se espera (bajo $H_0$ cierta) en la $i$-esima categoría y se calcula como sigue $f^{esp}_{i} = n\\times p_{0i}$, $i,\\ldots,k$.\n",
        ">- $k$ es el número de categorías.\n",
        "\n",
        "Asumiendo que $H_0$ es verdadera y para frecuencias observadas y esperadas grandes,  $\\chi^{2} \\sim \\chi^{2}_{(k-1)}$."
      ]
    },
    {
      "cell_type": "markdown",
      "metadata": {
        "id": "Lf0Qp6mJl3QY"
      },
      "source": [
        "### **Region Crítica**"
      ]
    },
    {
      "cell_type": "markdown",
      "metadata": {
        "id": "4H-71HE_H5O2"
      },
      "source": [
        "![Region Critica Chi2](https://caelum-online-public.s3.amazonaws.com/ESP-1778-estadistica-con-python-test-hipotesis/Region_Critica_Chi2.png)"
      ]
    },
    {
      "cell_type": "markdown",
      "metadata": {
        "id": "eqHs_6IYmYfN"
      },
      "source": [
        "### **$p$-valor**\n",
        "El $p$-valor es calculado como:\n",
        "\n",
        "$$p-\\textrm{valor} = P\\left(\\chi^{2}_{(k-1)} \\geq \\chi^{2}_{obs}\\right)$$\n",
        "\n",
        "donde $\\chi^{2}_{obs}$ es el valor de la estadística de prueba $\\chi^{2}$ calculado a partir de los datos. \\\\\n",
        "\n",
        "Recuerde que $H_0$ es rechazada si $p$-valor $\\leq \\alpha$."
      ]
    }
  ]
}