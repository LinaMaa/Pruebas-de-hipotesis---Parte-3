{
  "nbformat": 4,
  "nbformat_minor": 0,
  "metadata": {
    "colab": {
      "name": "Prueba_de_Hipótesis.ipynb",
      "provenance": [],
      "collapsed_sections": [],
      "toc_visible": true
    },
    "kernelspec": {
      "display_name": "Python 3",
      "language": "python",
      "name": "python3"
    },
    "language_info": {
      "codemirror_mode": {
        "name": "ipython",
        "version": 3
      },
      "file_extension": ".py",
      "mimetype": "text/x-python",
      "name": "python",
      "nbconvert_exporter": "python",
      "pygments_lexer": "ipython3",
      "version": "3.6.5"
    }
  },
  "cells": [
    {
      "cell_type": "markdown",
      "metadata": {
        "id": "WvMflodMjQKe"
      },
      "source": [
        "# <font color=green size=10>CURSO DE ESTADÍSTICA - PARTE 3</font>\n",
        "\n",
        "***\n",
        "\n"
      ]
    },
    {
      "cell_type": "markdown",
      "metadata": {
        "id": "iTfGQBdKBUMv"
      },
      "source": [
        "# Trabajo sobre pruebas de hipótesis\r\n",
        "\r\n",
        "Utilizando los conocimientos adquiridos en nuestro entrenamiento realice la prueba de hipótesis indicadas abajo.\r\n",
        "\r\n",
        "Siga el guión propuesto y vaya completando las celdas vacias.\r\n",
        "Procure pensar en otras pruebas interesantes que puedan ser realizadas con muestro conjunto de datos."
      ]
    },
    {
      "cell_type": "markdown",
      "metadata": {
        "id": "cVgsZ_E3jQKg"
      },
      "source": [
        "# <font color=green>Base de datos</font>\n",
        "***"
      ]
    },
    {
      "cell_type": "markdown",
      "metadata": {
        "id": "iN1gIbaKjQKh"
      },
      "source": [
        "La <b> Encuesta Nacional de Hogares (PNDA, del portugués Pesquisa Nacional por Amostra de Domicílios)</b> anualmente investiga, de forma permanente, las características generales de la población, educación, trabajo, ingresos y vivienda, y otras con frecuencia variable, de acuerdo con las necesidades de información del país, tales como las características de migración, fecundidad, nupcialidad, salud, seguridad alimentaria, entre otros temas. La recopilación de estas estadísticas constituye, durante los 49 años de realización de la investigación, un importante instrumento para la formulación, validación y evaluación de políticas orientadas al desarrollo socioeconómico y a la mejora de las condiciones de vida en Brasil."
      ]
    },
    {
      "cell_type": "markdown",
      "metadata": {
        "id": "U6V7br1RjQKi"
      },
      "source": [
        "**Fuente**\n",
        "\n",
        "https://ww2.ibge.gov.br/home/estatistica/populacao/trabalhoerendimento/pnad2015/microdados.shtm"
      ]
    },
    {
      "cell_type": "markdown",
      "metadata": {
        "id": "GgabFet_A1OC"
      },
      "source": [
        "**Variables**"
      ]
    },
    {
      "cell_type": "markdown",
      "metadata": {
        "id": "nyoSmRI-A3J8"
      },
      "source": [
        "\r\n",
        "> Renta \r\n",
        "> ***\r\n",
        "\r\n",
        "Ingreso mensual del jefe del hogar.\r\n",
        "\r\n",
        "> Edad\r\n",
        "> ***\r\n",
        "\r\n",
        "Edad (en años) del jefe del hogar.\r\n",
        "\r\n",
        "> Altura (construida)\r\n",
        "> ***\r\n",
        "\r\n",
        "Altura (en metros) del jefe del hogar.\r\n",
        "\r\n",
        "> UF (Unidad de federación)\r\n",
        "> ***\r\n",
        "\r\n",
        "|Código|Descripción|\r\n",
        "|---|---|\r\n",
        "|11|Rondônia|\r\n",
        "|12|Acre|\r\n",
        "|13|Amazonas|\r\n",
        "|14|Roraima|\r\n",
        "|15|Pará|\r\n",
        "|16|Amapá|\r\n",
        "|17|Tocantins|\r\n",
        "|21|Maranhão|\r\n",
        "|22|Piauí|\r\n",
        "|23|Ceará|\r\n",
        "|24|Rio Grande do Norte|\r\n",
        "|25|Paraíba|\r\n",
        "|26|Pernambuco|\r\n",
        "|27|Alagoas|\r\n",
        "|28|Sergipe|\r\n",
        "|29|Bahia|\r\n",
        "|31|Minas Gerais|\r\n",
        "|32|Espírito Santo|\r\n",
        "|33|Rio de Janeiro|\r\n",
        "|35|São Paulo|\r\n",
        "|41|Paraná|\r\n",
        "|42|Santa Catarina|\r\n",
        "|43|Rio Grande do Sul|\r\n",
        "|50|Mato Grosso do Sul|\r\n",
        "|51|Mato Grosso|\r\n",
        "|52|Goiás|\r\n",
        "|53|Distrito Federal|\r\n",
        "\r\n",
        "> Sexo\t\r\n",
        "> ***\r\n",
        "\r\n",
        "|Código|Descripción|\r\n",
        "|---|---|\r\n",
        "|0|Masculino|\r\n",
        "|1|Femenino|\r\n",
        "\r\n",
        "> Años de estudio\r\n",
        "> ***\r\n",
        "\r\n",
        "|Código|Descripción|\r\n",
        "|---|---|\r\n",
        "|1|Sin instrucción o menos de 1 año|\r\n",
        "|2|1 año|\r\n",
        "|3|2 años|\r\n",
        "|4|3 años|\r\n",
        "|5|4 años|\r\n",
        "|6|5 años|\r\n",
        "|7|6 años|\r\n",
        "|8|7 años|\r\n",
        "|9|8 años|\r\n",
        "|10|9 años|\r\n",
        "|11|10 años|\r\n",
        "|12|11 años|\r\n",
        "|13|12 años|\r\n",
        "|14|13 años|\r\n",
        "|15|14 años|\r\n",
        "|16|15 años o más|\r\n",
        "|17|No determinados| \r\n",
        "||No aplica|\r\n",
        "\r\n",
        "> Color \r\n",
        "> ***\r\n",
        "\r\n",
        "|Código|Descripción|\r\n",
        "|---|---|\r\n",
        "|0|Indigena|\r\n",
        "|2|Blanca|\r\n",
        "|4|Negra|\r\n",
        "|6|Amarilla|\r\n",
        "|8|Parda|\r\n",
        "|9|Sin declaración|"
      ]
    },
    {
      "cell_type": "markdown",
      "metadata": {
        "id": "OK1IQH5cX7Gb"
      },
      "source": [
        "<font color='red'>Observación</font>\n",
        "***\n",
        "> Se realizaron los siguientes tratamientos sobre los datos originales:\n",
        "> 1. Se eliminaron los registros en los que la <b>Renta</b> no era válida (999 999 999 999);\n",
        "> 2. Se eliminaron los registros en los que la <b>Renta</b> era missing;\n",
        "> 3. Sólo se consideraron los registros de las  <b>personas de referencia</b> de cada hogar (responsables del hogar)."
      ]
    },
    {
      "cell_type": "markdown",
      "metadata": {
        "id": "ZIqLOffNTg1Y"
      },
      "source": [
        "***\n",
        "***"
      ]
    },
    {
      "cell_type": "markdown",
      "metadata": {
        "id": "8Rw70V6ojQKk"
      },
      "source": [
        "## Importe las bibliotecas\n",
        "\n"
      ]
    },
    {
      "cell_type": "markdown",
      "metadata": {
        "id": "pU0Dd6XtCpig"
      },
      "source": [
        "Utilice las celda de abajo para importar las bibliotecas que serán necesarias para ejecutar las tareas\r\n",
        "\r\n",
        "<font color='red'>Sugerencias: pandas, numpy, scipy, statsmodels</font>"
      ]
    },
    {
      "cell_type": "code",
      "metadata": {
        "id": "fcTgimHBybMz"
      },
      "source": [
        ""
      ],
      "execution_count": null,
      "outputs": []
    },
    {
      "cell_type": "markdown",
      "metadata": {
        "id": "2a-gvBvCULwt"
      },
      "source": [
        "## Importe la base de datos y almacene el contenido en un DataFrame"
      ]
    },
    {
      "cell_type": "code",
      "metadata": {
        "id": "ufRZ7TLwjQKo"
      },
      "source": [
        ""
      ],
      "execution_count": null,
      "outputs": []
    },
    {
      "cell_type": "markdown",
      "metadata": {
        "id": "Oq3CKHCmTg1j"
      },
      "source": [
        "## Visualice el contenido del DataFrame"
      ]
    },
    {
      "cell_type": "code",
      "metadata": {
        "id": "GsC_WhLFjQKq",
        "scrolled": true
      },
      "source": [
        ""
      ],
      "execution_count": null,
      "outputs": []
    },
    {
      "cell_type": "markdown",
      "metadata": {
        "id": "lmAJLIu8pslb"
      },
      "source": [
        "**Problema**"
      ]
    },
    {
      "cell_type": "markdown",
      "metadata": {
        "id": "0zUUY8klpslc"
      },
      "source": [
        "Asuma que usted es un investigador que estudia el mercado de trabajo brasilero y está interesado en estudiar las diferencias salariales de los trabajadores de los estados de Rio de Janeiro y de São Paulo. \n",
        "\n",
        "Durante su investigación usted comienza a sospechar que aparentemente los rendimientos de los trabajadores del estado de Rio de Janeiro son más bajos que los rendimientos de los trabajadores del estado de São Paulo. Para verificar su sospecha realice una prueba de hipótesis de comparación de medias utilizando dos muestras con los salarios de los  trabajadores de los dos estados. Siga las siguientes etapas:\n",
        "\n",
        "- Selecione dos muestras **500 trabajadores** para cada uno de los dos estados (variable UF) para realizar la prueba. Utilize el **parámetro random_state=101**.\n",
        "- Considere un **nivel de significancia del 5%**.\n",
        "- Pruebe la hipótesis que el **salario medio de los trabalhadores de Rio de Janeiro es menor que el salario medio de los trabajadores de São Paulo**."
      ]
    },
    {
      "cell_type": "markdown",
      "metadata": {
        "id": "WUknTBZgpslc"
      },
      "source": [
        "---"
      ]
    },
    {
      "cell_type": "markdown",
      "metadata": {
        "id": "xzGuwM4xpslc"
      },
      "source": [
        "## Selecione las muestras"
      ]
    },
    {
      "cell_type": "code",
      "metadata": {
        "id": "nuNSrzfYpsld",
        "scrolled": true
      },
      "source": [
        ""
      ],
      "execution_count": null,
      "outputs": []
    },
    {
      "cell_type": "code",
      "metadata": {
        "id": "W-W9IOs1psle",
        "scrolled": true
      },
      "source": [
        ""
      ],
      "execution_count": null,
      "outputs": []
    },
    {
      "cell_type": "markdown",
      "metadata": {
        "id": "FOFa-cHwpslg"
      },
      "source": [
        "## Calcule la media muestral de cada muestra\n",
        "\n",
        "Para tener una noción si la sospecha del investigador es cierta compare las medias muestrales dos estados. "
      ]
    },
    {
      "cell_type": "code",
      "metadata": {
        "id": "BGyXCbompslh"
      },
      "source": [
        ""
      ],
      "execution_count": null,
      "outputs": []
    },
    {
      "cell_type": "code",
      "metadata": {
        "id": "RoxFOCA3pslk"
      },
      "source": [
        ""
      ],
      "execution_count": null,
      "outputs": []
    },
    {
      "cell_type": "markdown",
      "metadata": {
        "id": "PYSH30i6R_Yf"
      },
      "source": [
        "## Datos del problema\r\n",
        "\r\n"
      ]
    },
    {
      "cell_type": "code",
      "metadata": {
        "id": "Of8L6Hygpsll"
      },
      "source": [
        ""
      ],
      "execution_count": null,
      "outputs": []
    },
    {
      "cell_type": "markdown",
      "metadata": {
        "id": "cmEsAFUhS7hh"
      },
      "source": [
        "## Resuelva paso a paso "
      ]
    },
    {
      "cell_type": "markdown",
      "metadata": {
        "id": "tO597Oxgpslp"
      },
      "source": [
        "**Paso 1: Establecer las hipótesis $H_0$ y $H_1$**\n",
        "\n",
        "<font color='red'>Recuerde que la afirmación se coloca en hipótesis nula $(H_0)$ y la sospecha en la hipótesis alterna $(H_1)$. </font>"
      ]
    },
    {
      "cell_type": "markdown",
      "metadata": {
        "id": "LysVU-7fpslr"
      },
      "source": [
        "Denote por \\\\\r\n",
        "\r\n",
        "<font color='red'>$\\mu_R$</font> $\\Rightarrow$ el salario medio poblacional de los trabajadores del estado de <font color='red'>Rio de Janeiro</font>,\r\n",
        "\r\n",
        "<font color='blue'>$\\mu_S$</font> $\\Rightarrow$  el salario medio poblacional de los trabajadores del estado de <font color='red'>São Paulo</font>.\r\n",
        "\r\n",
        "Plantee las hipótesis:\r\n",
        "\r\n",
        "$\r\n",
        "\\begin{cases}\r\n",
        "H_0:   \\\\\r\n",
        "H_1: \r\n",
        "\\end{cases}\r\n",
        "$\r\n",
        "\r\n",
        "\r\n",
        "<font color='red'>Ayuda: menor igual (\\leq), mayor igual (\\geq), menor que (<), mayor que (>) </font>.\r\n"
      ]
    },
    {
      "cell_type": "markdown",
      "metadata": {
        "id": "NnOA78utd_Iu"
      },
      "source": [
        "Qué tipo de prueba de hipótesis es? "
      ]
    },
    {
      "cell_type": "markdown",
      "metadata": {
        "id": "8CzgOJJleIS2"
      },
      "source": [
        ""
      ]
    },
    {
      "cell_type": "markdown",
      "metadata": {
        "id": "ENKqbCgQpslr"
      },
      "source": [
        "**Paso 2: Fijar el nivel de significancia $\\alpha$ de la prueba**"
      ]
    },
    {
      "cell_type": "markdown",
      "metadata": {
        "id": "bHqqoR4zVxwa"
      },
      "source": [
        "$\\alpha = $"
      ]
    },
    {
      "cell_type": "markdown",
      "metadata": {
        "id": "5Z9NLhR0V6ZN"
      },
      "source": [
        "**Paso 3: Determinar la distribución de muestreo y Estadística de prueba adecuada**"
      ]
    },
    {
      "cell_type": "markdown",
      "metadata": {
        "id": "0GzfOXCFV_Y_"
      },
      "source": [
        "![Resumen dos medias](https://caelum-online-public.s3.amazonaws.com/ESP-1778-estadistica-con-python-test-hipotesis/Resumen_Dif.png)"
      ]
    },
    {
      "cell_type": "markdown",
      "metadata": {
        "id": "8NmmWP-mWY9A"
      },
      "source": [
        "Calcule la estadística de prueba adecuada"
      ]
    },
    {
      "cell_type": "code",
      "metadata": {
        "id": "b3Y_CZmzpsls"
      },
      "source": [
        ""
      ],
      "execution_count": null,
      "outputs": []
    },
    {
      "cell_type": "code",
      "metadata": {
        "id": "qNse2bFRpslu"
      },
      "source": [
        ""
      ],
      "execution_count": null,
      "outputs": []
    },
    {
      "cell_type": "code",
      "metadata": {
        "id": "eWF77ok-WVSO"
      },
      "source": [
        ""
      ],
      "execution_count": null,
      "outputs": []
    },
    {
      "cell_type": "markdown",
      "metadata": {
        "id": "iooB1aPHpslv"
      },
      "source": [
        "**Paso 4: Determinar la región crítica**"
      ]
    },
    {
      "cell_type": "markdown",
      "metadata": {
        "id": "x7vMHo8IW3vT"
      },
      "source": [
        "![Region Critica dos medias](https://caelum-online-public.s3.amazonaws.com/ESP-1778-estadistica-con-python-test-hipotesis/Region_Critica_Dif.png)"
      ]
    },
    {
      "cell_type": "markdown",
      "metadata": {
        "id": "seskp4PlXnT5"
      },
      "source": [
        "Calcule el valor critico\r\n",
        "\r\n"
      ]
    },
    {
      "cell_type": "code",
      "metadata": {
        "id": "AL2i9JOTpslw"
      },
      "source": [
        ""
      ],
      "execution_count": null,
      "outputs": []
    },
    {
      "cell_type": "markdown",
      "metadata": {
        "id": "8L6C4oK5X1Jt"
      },
      "source": [
        "**Paso 5: Tomar la decisión y concluir**"
      ]
    },
    {
      "cell_type": "markdown",
      "metadata": {
        "id": "4dn58Fc2pslx"
      },
      "source": [
        "Criterio de la región critica.\r\n",
        "\r\n",
        "<font color='red'>Verifique si su estadística de prueba cae o no en la región crítica </font>"
      ]
    },
    {
      "cell_type": "code",
      "metadata": {
        "id": "b-ER1HxsYQ6V"
      },
      "source": [
        ""
      ],
      "execution_count": null,
      "outputs": []
    },
    {
      "cell_type": "markdown",
      "metadata": {
        "id": "bjJ7aDIRX8X1"
      },
      "source": [
        "Calcule el $p$-valor.\r\n",
        "\r\n",
        "Recuerque que si $p-\\textrm{valor} \\leq \\alpha$ rechazamos $H_0$."
      ]
    },
    {
      "cell_type": "code",
      "metadata": {
        "id": "UI1XGxfDYwcI"
      },
      "source": [
        ""
      ],
      "execution_count": null,
      "outputs": []
    },
    {
      "cell_type": "code",
      "metadata": {
        "id": "nVCmrKVzYvzj"
      },
      "source": [
        ""
      ],
      "execution_count": null,
      "outputs": []
    },
    {
      "cell_type": "markdown",
      "metadata": {
        "id": "HoHLAlsJZgWa"
      },
      "source": [
        "<font color='green'>Conclusión: (Digite sua conclusión aqui)</font>"
      ]
    },
    {
      "cell_type": "markdown",
      "metadata": {
        "id": "9q17elMDY8pl"
      },
      "source": [
        "## Resuelva usando paquetes de Phyton"
      ]
    },
    {
      "cell_type": "markdown",
      "metadata": {
        "id": "UtWm-GiFPkyX"
      },
      "source": [
        "### Utilize DescrStatsW"
      ]
    },
    {
      "cell_type": "code",
      "metadata": {
        "id": "uW0uVFnFpsl1"
      },
      "source": [
        ""
      ],
      "execution_count": null,
      "outputs": []
    },
    {
      "cell_type": "code",
      "metadata": {
        "id": "kP92TQqupsl1"
      },
      "source": [
        ""
      ],
      "execution_count": null,
      "outputs": []
    },
    {
      "cell_type": "code",
      "metadata": {
        "id": "diOjg4G8psl2"
      },
      "source": [
        ""
      ],
      "execution_count": null,
      "outputs": []
    },
    {
      "cell_type": "code",
      "metadata": {
        "id": "tweh7q_spsl5"
      },
      "source": [
        ""
      ],
      "execution_count": null,
      "outputs": []
    },
    {
      "cell_type": "markdown",
      "metadata": {
        "id": "Syf0s5X2Pkye"
      },
      "source": [
        "### Utilize CompareMeans"
      ]
    },
    {
      "cell_type": "code",
      "metadata": {
        "id": "qRkrt2XZhL9v"
      },
      "source": [
        ""
      ],
      "execution_count": null,
      "outputs": []
    },
    {
      "cell_type": "code",
      "metadata": {
        "id": "tSbOZem9hLvs"
      },
      "source": [
        ""
      ],
      "execution_count": null,
      "outputs": []
    },
    {
      "cell_type": "code",
      "metadata": {
        "id": "E3NF1BzYpsl6"
      },
      "source": [
        ""
      ],
      "execution_count": null,
      "outputs": []
    },
    {
      "cell_type": "markdown",
      "metadata": {
        "id": "UnBVO1uDpslz"
      },
      "source": [
        "<font color='green'>Conclusión: (Digite sua conclusión aqui)</font>"
      ]
    },
    {
      "cell_type": "code",
      "metadata": {
        "id": "IAcPnKQArAny"
      },
      "source": [
        ""
      ],
      "execution_count": null,
      "outputs": []
    }
  ]
}