{
  "nbformat": 4,
  "nbformat_minor": 0,
  "metadata": {
    "colab": {
      "name": "Prueba_de_Hipótesis_Respuestas.ipynb",
      "provenance": [],
      "collapsed_sections": [],
      "toc_visible": true
    },
    "kernelspec": {
      "display_name": "Python 3",
      "language": "python",
      "name": "python3"
    },
    "language_info": {
      "codemirror_mode": {
        "name": "ipython",
        "version": 3
      },
      "file_extension": ".py",
      "mimetype": "text/x-python",
      "name": "python",
      "nbconvert_exporter": "python",
      "pygments_lexer": "ipython3",
      "version": "3.6.5"
    }
  },
  "cells": [
    {
      "cell_type": "markdown",
      "metadata": {
        "id": "WvMflodMjQKe"
      },
      "source": [
        "# <font color=green size=10>CURSO DE ESTADÍSTICA - PARTE 3</font>\n",
        "\n",
        "***\n",
        "\n"
      ]
    },
    {
      "cell_type": "markdown",
      "metadata": {
        "id": "iTfGQBdKBUMv"
      },
      "source": [
        "# Trabajo sobre pruebas de hipótesis\r\n",
        "\r\n",
        "Utilizando los conocimientos adquiridos en nuestro entrenamiento realice la prueba de hipótesis indicadas abajo.\r\n",
        "\r\n",
        "Siga el guión propuesto y vaya completando las celdas vacias.\r\n",
        "Procure pensar en otras pruebas interesantes que puedan ser realizadas con muestro conjunto de datos."
      ]
    },
    {
      "cell_type": "markdown",
      "metadata": {
        "id": "cVgsZ_E3jQKg"
      },
      "source": [
        "# <font color=green>Base de datos</font>\n",
        "***"
      ]
    },
    {
      "cell_type": "markdown",
      "metadata": {
        "id": "iN1gIbaKjQKh"
      },
      "source": [
        "La <b> Encuesta Nacional de Hogares (PNDA, del portugués Pesquisa Nacional por Amostra de Domicílios)</b> anualmente investiga, de forma permanente, las características generales de la población, educación, trabajo, ingresos y vivienda, y otras con frecuencia variable, de acuerdo con las necesidades de información del país, tales como las características de migración, fecundidad, nupcialidad, salud, seguridad alimentaria, entre otros temas. La recopilación de estas estadísticas constituye, durante los 49 años de realización de la investigación, un importante instrumento para la formulación, validación y evaluación de políticas orientadas al desarrollo socioeconómico y a la mejora de las condiciones de vida en Brasil."
      ]
    },
    {
      "cell_type": "markdown",
      "metadata": {
        "id": "U6V7br1RjQKi"
      },
      "source": [
        "**Fuente**\n",
        "\n",
        "https://ww2.ibge.gov.br/home/estatistica/populacao/trabalhoerendimento/pnad2015/microdados.shtm"
      ]
    },
    {
      "cell_type": "markdown",
      "metadata": {
        "id": "GgabFet_A1OC"
      },
      "source": [
        "**Variables**"
      ]
    },
    {
      "cell_type": "markdown",
      "metadata": {
        "id": "nyoSmRI-A3J8"
      },
      "source": [
        "\r\n",
        "> Renta \r\n",
        "> ***\r\n",
        "\r\n",
        "Ingreso mensual del jefe del hogar.\r\n",
        "\r\n",
        "> Edad\r\n",
        "> ***\r\n",
        "\r\n",
        "Edad (en años) del jefe del hogar.\r\n",
        "\r\n",
        "> Altura (construida)\r\n",
        "> ***\r\n",
        "\r\n",
        "Altura (en metros) del jefe del hogar.\r\n",
        "\r\n",
        "> UF (Unidad de federación)\r\n",
        "> ***\r\n",
        "\r\n",
        "|Código|Descripción|\r\n",
        "|---|---|\r\n",
        "|11|Rondônia|\r\n",
        "|12|Acre|\r\n",
        "|13|Amazonas|\r\n",
        "|14|Roraima|\r\n",
        "|15|Pará|\r\n",
        "|16|Amapá|\r\n",
        "|17|Tocantins|\r\n",
        "|21|Maranhão|\r\n",
        "|22|Piauí|\r\n",
        "|23|Ceará|\r\n",
        "|24|Rio Grande do Norte|\r\n",
        "|25|Paraíba|\r\n",
        "|26|Pernambuco|\r\n",
        "|27|Alagoas|\r\n",
        "|28|Sergipe|\r\n",
        "|29|Bahia|\r\n",
        "|31|Minas Gerais|\r\n",
        "|32|Espírito Santo|\r\n",
        "|33|Rio de Janeiro|\r\n",
        "|35|São Paulo|\r\n",
        "|41|Paraná|\r\n",
        "|42|Santa Catarina|\r\n",
        "|43|Rio Grande do Sul|\r\n",
        "|50|Mato Grosso do Sul|\r\n",
        "|51|Mato Grosso|\r\n",
        "|52|Goiás|\r\n",
        "|53|Distrito Federal|\r\n",
        "\r\n",
        "> Sexo\t\r\n",
        "> ***\r\n",
        "\r\n",
        "|Código|Descripción|\r\n",
        "|---|---|\r\n",
        "|0|Masculino|\r\n",
        "|1|Femenino|\r\n",
        "\r\n",
        "> Años de estudio\r\n",
        "> ***\r\n",
        "\r\n",
        "|Código|Descripción|\r\n",
        "|---|---|\r\n",
        "|1|Sin instrucción o menos de 1 año|\r\n",
        "|2|1 año|\r\n",
        "|3|2 años|\r\n",
        "|4|3 años|\r\n",
        "|5|4 años|\r\n",
        "|6|5 años|\r\n",
        "|7|6 años|\r\n",
        "|8|7 años|\r\n",
        "|9|8 años|\r\n",
        "|10|9 años|\r\n",
        "|11|10 años|\r\n",
        "|12|11 años|\r\n",
        "|13|12 años|\r\n",
        "|14|13 años|\r\n",
        "|15|14 años|\r\n",
        "|16|15 años o más|\r\n",
        "|17|No determinados| \r\n",
        "||No aplica|\r\n",
        "\r\n",
        "> Color \r\n",
        "> ***\r\n",
        "\r\n",
        "|Código|Descripción|\r\n",
        "|---|---|\r\n",
        "|0|Indigena|\r\n",
        "|2|Blanca|\r\n",
        "|4|Negra|\r\n",
        "|6|Amarilla|\r\n",
        "|8|Parda|\r\n",
        "|9|Sin declaración|"
      ]
    },
    {
      "cell_type": "markdown",
      "metadata": {
        "id": "OK1IQH5cX7Gb"
      },
      "source": [
        "<font color='red'>Observación</font>\n",
        "***\n",
        "> Se realizaron los siguientes tratamientos sobre los datos originales:\n",
        "> 1. Se eliminaron los registros en los que la <b>Renta</b> no era válida (999 999 999 999);\n",
        "> 2. Se eliminaron los registros en los que la <b>Renta</b> era missing;\n",
        "> 3. Sólo se consideraron los registros de las  <b>personas de referencia</b> de cada hogar (responsables del hogar)."
      ]
    },
    {
      "cell_type": "markdown",
      "metadata": {
        "id": "ZIqLOffNTg1Y"
      },
      "source": [
        "***\n",
        "***"
      ]
    },
    {
      "cell_type": "markdown",
      "metadata": {
        "id": "8Rw70V6ojQKk"
      },
      "source": [
        "## Importe las bibliotecas\n",
        "\n"
      ]
    },
    {
      "cell_type": "markdown",
      "metadata": {
        "id": "pU0Dd6XtCpig"
      },
      "source": [
        "Utilice las celda de abajo para importar las bibliotecas que serán necesarias para ejecutar las tareas\r\n",
        "\r\n",
        "<font color='red'>Sugerencias: pandas, numpy, scipy, statsmodels</font>"
      ]
    },
    {
      "cell_type": "code",
      "metadata": {
        "id": "fcTgimHBybMz"
      },
      "source": [
        "import pandas as pd\r\n",
        "import numpy as np\r\n",
        "from scipy.stats import norm\r\n",
        "from statsmodels.stats.weightstats import DescrStatsW, CompareMeans"
      ],
      "execution_count": 17,
      "outputs": []
    },
    {
      "cell_type": "markdown",
      "metadata": {
        "id": "2a-gvBvCULwt"
      },
      "source": [
        "## Importe la base de datos y almacene el contenido en un DataFrame"
      ]
    },
    {
      "cell_type": "code",
      "metadata": {
        "id": "ufRZ7TLwjQKo"
      },
      "source": [
        "datos = pd.read_csv('datos.csv')"
      ],
      "execution_count": 3,
      "outputs": []
    },
    {
      "cell_type": "markdown",
      "metadata": {
        "id": "Oq3CKHCmTg1j"
      },
      "source": [
        "## Visualice el contenido del DataFrame"
      ]
    },
    {
      "cell_type": "code",
      "metadata": {
        "id": "GsC_WhLFjQKq",
        "scrolled": true,
        "colab": {
          "base_uri": "https://localhost:8080/",
          "height": 202
        },
        "outputId": "7e3db3b2-20ca-43da-ecf2-725ca8931b39"
      },
      "source": [
        "datos.head()"
      ],
      "execution_count": 4,
      "outputs": [
        {
          "output_type": "execute_result",
          "data": {
            "text/html": [
              "<div>\n",
              "<style scoped>\n",
              "    .dataframe tbody tr th:only-of-type {\n",
              "        vertical-align: middle;\n",
              "    }\n",
              "\n",
              "    .dataframe tbody tr th {\n",
              "        vertical-align: top;\n",
              "    }\n",
              "\n",
              "    .dataframe thead th {\n",
              "        text-align: right;\n",
              "    }\n",
              "</style>\n",
              "<table border=\"1\" class=\"dataframe\">\n",
              "  <thead>\n",
              "    <tr style=\"text-align: right;\">\n",
              "      <th></th>\n",
              "      <th>UF</th>\n",
              "      <th>Sexo</th>\n",
              "      <th>Edad</th>\n",
              "      <th>Color</th>\n",
              "      <th>Anos de Estudio</th>\n",
              "      <th>Renta</th>\n",
              "      <th>Altura</th>\n",
              "    </tr>\n",
              "  </thead>\n",
              "  <tbody>\n",
              "    <tr>\n",
              "      <th>0</th>\n",
              "      <td>11</td>\n",
              "      <td>0</td>\n",
              "      <td>23</td>\n",
              "      <td>8</td>\n",
              "      <td>12</td>\n",
              "      <td>800</td>\n",
              "      <td>1.603808</td>\n",
              "    </tr>\n",
              "    <tr>\n",
              "      <th>1</th>\n",
              "      <td>11</td>\n",
              "      <td>1</td>\n",
              "      <td>23</td>\n",
              "      <td>2</td>\n",
              "      <td>12</td>\n",
              "      <td>1150</td>\n",
              "      <td>1.739790</td>\n",
              "    </tr>\n",
              "    <tr>\n",
              "      <th>2</th>\n",
              "      <td>11</td>\n",
              "      <td>1</td>\n",
              "      <td>35</td>\n",
              "      <td>8</td>\n",
              "      <td>15</td>\n",
              "      <td>880</td>\n",
              "      <td>1.760444</td>\n",
              "    </tr>\n",
              "    <tr>\n",
              "      <th>3</th>\n",
              "      <td>11</td>\n",
              "      <td>0</td>\n",
              "      <td>46</td>\n",
              "      <td>2</td>\n",
              "      <td>6</td>\n",
              "      <td>3500</td>\n",
              "      <td>1.783158</td>\n",
              "    </tr>\n",
              "    <tr>\n",
              "      <th>4</th>\n",
              "      <td>11</td>\n",
              "      <td>1</td>\n",
              "      <td>47</td>\n",
              "      <td>8</td>\n",
              "      <td>9</td>\n",
              "      <td>150</td>\n",
              "      <td>1.690631</td>\n",
              "    </tr>\n",
              "  </tbody>\n",
              "</table>\n",
              "</div>"
            ],
            "text/plain": [
              "   UF  Sexo  Edad  Color  Anos de Estudio  Renta    Altura\n",
              "0  11     0    23      8               12    800  1.603808\n",
              "1  11     1    23      2               12   1150  1.739790\n",
              "2  11     1    35      8               15    880  1.760444\n",
              "3  11     0    46      2                6   3500  1.783158\n",
              "4  11     1    47      8                9    150  1.690631"
            ]
          },
          "metadata": {
            "tags": []
          },
          "execution_count": 4
        }
      ]
    },
    {
      "cell_type": "markdown",
      "metadata": {
        "id": "lmAJLIu8pslb"
      },
      "source": [
        "**Problema**"
      ]
    },
    {
      "cell_type": "markdown",
      "metadata": {
        "id": "0zUUY8klpslc"
      },
      "source": [
        "Asuma que usted es un investigador que estudia el mercado de trabajo brasilero y está interesado en estudiar las diferencias salariales de los trabajadores de los estados de Rio de Janeiro y de São Paulo. \n",
        "\n",
        "Durante su investigación usted comienza a sospechar que aparentemente los rendimientos de los trabajadores del estado de Rio de Janeiro son más bajos que los rendimientos de los trabajadores del estado de São Paulo. Para verificar su sospecha realice una prueba de hipótesis de comparación de medias utilizando dos muestras con los salarios de los  trabajadores de los dos estados. Siga las siguientes etapas:\n",
        "\n",
        "- Selecione dos muestras **500 trabajadores** para cada uno de los dos estados (variable UF) para realizar la prueba. Utilize el **parámetro random_state=101**.\n",
        "- Considere un **nivel de significancia del 5%**.\n",
        "- Pruebe la hipótesis que el **salario medio de los trabalhadores de Rio de Janeiro es menor que el salario medio de los trabajadores de São Paulo**."
      ]
    },
    {
      "cell_type": "markdown",
      "metadata": {
        "id": "WUknTBZgpslc"
      },
      "source": [
        "---"
      ]
    },
    {
      "cell_type": "markdown",
      "metadata": {
        "id": "xzGuwM4xpslc"
      },
      "source": [
        "## Selecione las muestras"
      ]
    },
    {
      "cell_type": "code",
      "metadata": {
        "id": "nuNSrzfYpsld",
        "scrolled": true
      },
      "source": [
        "rj = datos.query('UF == 33').sample(n = 500, random_state = 101).Renta"
      ],
      "execution_count": 6,
      "outputs": []
    },
    {
      "cell_type": "code",
      "metadata": {
        "id": "W-W9IOs1psle",
        "scrolled": true
      },
      "source": [
        "sp = datos.query('UF == 35').sample(n = 500, random_state = 101).Renta"
      ],
      "execution_count": 7,
      "outputs": []
    },
    {
      "cell_type": "markdown",
      "metadata": {
        "id": "FOFa-cHwpslg"
      },
      "source": [
        "## Calcule la media muestral de cada muestra\n",
        "\n",
        "Para tener una noción si la sospecha del investigador es cierta compare las medias muestrales dos estados. "
      ]
    },
    {
      "cell_type": "code",
      "metadata": {
        "id": "BGyXCbompslh",
        "colab": {
          "base_uri": "https://localhost:8080/"
        },
        "outputId": "ed1e6390-5299-47e9-e6b8-8a5a43e934cf"
      },
      "source": [
        "media_muestral_rj = rj.mean()\r\n",
        "media_muestral_rj"
      ],
      "execution_count": 8,
      "outputs": [
        {
          "output_type": "execute_result",
          "data": {
            "text/plain": [
              "2240.518"
            ]
          },
          "metadata": {
            "tags": []
          },
          "execution_count": 8
        }
      ]
    },
    {
      "cell_type": "code",
      "metadata": {
        "id": "RoxFOCA3pslk",
        "colab": {
          "base_uri": "https://localhost:8080/"
        },
        "outputId": "a6b4dd3c-1b08-4103-c2f9-fd3142a50112"
      },
      "source": [
        "media_muestral_sp = sp.mean()\r\n",
        "media_muestral_sp"
      ],
      "execution_count": 9,
      "outputs": [
        {
          "output_type": "execute_result",
          "data": {
            "text/plain": [
              "2839.352"
            ]
          },
          "metadata": {
            "tags": []
          },
          "execution_count": 9
        }
      ]
    },
    {
      "cell_type": "markdown",
      "metadata": {
        "id": "PYSH30i6R_Yf"
      },
      "source": [
        "## Datos del problema\r\n",
        "\r\n"
      ]
    },
    {
      "cell_type": "code",
      "metadata": {
        "id": "Of8L6Hygpsll"
      },
      "source": [
        "significancia = 0.05\r\n",
        "confianza = 1 - significancia\r\n",
        "n_rj = 500\r\n",
        "n_sp = 500\r\n",
        "D_0 = 0"
      ],
      "execution_count": 10,
      "outputs": []
    },
    {
      "cell_type": "markdown",
      "metadata": {
        "id": "cmEsAFUhS7hh"
      },
      "source": [
        "## Resuelva paso a paso "
      ]
    },
    {
      "cell_type": "markdown",
      "metadata": {
        "id": "tO597Oxgpslp"
      },
      "source": [
        "**Paso 1: Establecer las hipótesis $H_0$ y $H_1$**\n",
        "\n",
        "<font color='red'>Recuerde que la afirmación se coloca en hipótesis nula $(H_0)$ y la sospecha en la hipótesis alterna $(H_1)$. </font>"
      ]
    },
    {
      "cell_type": "markdown",
      "metadata": {
        "id": "LysVU-7fpslr"
      },
      "source": [
        "Denote por \\\\\r\n",
        "\r\n",
        "<font color='red'>$\\mu_R$</font> $\\Rightarrow$ el salario medio poblacional de los trabajadores del estado de <font color='red'>Rio de Janeiro</font>,\r\n",
        "\r\n",
        "<font color='blue'>$\\mu_S$</font> $\\Rightarrow$  el salario medio poblacional de los trabajadores del estado de <font color='red'>São Paulo</font>.\r\n",
        "\r\n",
        "Plantee las hipótesis:\r\n",
        "\r\n",
        "$\r\n",
        "\\begin{cases}\r\n",
        "H_0: \\mu_R \\geq \\mu_S   \\\\\r\n",
        "H_1: \\mu_R < \\mu_S\r\n",
        "\\end{cases}\r\n",
        "$\r\n",
        "**O equivalentemente**\r\n",
        "$\r\n",
        "\\begin{cases}\r\n",
        "H_0: \\mu_R - \\mu_S \\geq 0\\,  \\\\\r\n",
        "H_1: \\mu_R - \\mu_S < 0 \r\n",
        "\\end{cases}\r\n",
        "$\r\n",
        "\r\n",
        "Note que $D_0=0$.\r\n",
        "\r\n",
        "<font color='red'>Ayuda: menor igual (\\leq), mayor igual (\\geq), menor que (<), mayor que (>) </font>.\r\n"
      ]
    },
    {
      "cell_type": "markdown",
      "metadata": {
        "id": "NnOA78utd_Iu"
      },
      "source": [
        "Qué tipo de prueba de hipótesis es? "
      ]
    },
    {
      "cell_type": "markdown",
      "metadata": {
        "id": "8CzgOJJleIS2"
      },
      "source": [
        "<font color='blue'> Rta: Unilateral (o unicaudal) a izquierda.</font>"
      ]
    },
    {
      "cell_type": "markdown",
      "metadata": {
        "id": "ENKqbCgQpslr"
      },
      "source": [
        "**Paso 2: Fijar el nivel de significancia $\\alpha$ de la prueba**"
      ]
    },
    {
      "cell_type": "markdown",
      "metadata": {
        "id": "bHqqoR4zVxwa"
      },
      "source": [
        "$\\alpha = 0,05$"
      ]
    },
    {
      "cell_type": "markdown",
      "metadata": {
        "id": "5Z9NLhR0V6ZN"
      },
      "source": [
        "**Paso 3: Determinar la distribución de muestreo y Estadística de prueba adecuada**"
      ]
    },
    {
      "cell_type": "markdown",
      "metadata": {
        "id": "0GzfOXCFV_Y_"
      },
      "source": [
        "![Resumen dos medias](https://caelum-online-public.s3.amazonaws.com/ESP-1778-estadistica-con-python-test-hipotesis/Resumen_Dif.png)"
      ]
    },
    {
      "cell_type": "markdown",
      "metadata": {
        "id": "8NmmWP-mWY9A"
      },
      "source": [
        "Calcule la estadística de prueba adecuada\r\n",
        "\r\n",
        "\r\n",
        "<font color='blue'> Observe que no se puede afirmar si la distribución de la renta es normal o no, sin embargo las muestras son de tamaños grandes, por lo tanto la estadística de prueba adecuada es:</font>\r\n",
        "\r\n",
        "$$Z = \\frac{\\left(\\overline{X}_{rj} - \\overline{Y}_{sp}\\right) - D_0}{\\sqrt{\\frac{\\sigma^{2}_{rj}}{n_{rj}}+\\frac{\\sigma^{2}_{sp}}{n_{sp}}}} \\sim N(0,1) $$\r\n",
        "\r\n",
        "<font color='blue'> Como no conocemos las varianzas poblacionales $\\left(\\sigma^{2}_{rj}, \\sigma^{2}_{sp}\\right)$, usamos las varianzas muestrales $\\left(S^{2}_{rj}, S^{2}_{sp}\\right)$. Así, tenemos que </font>\r\n",
        "\r\n",
        "$$Z = \\frac{\\left(\\overline{X}_{rj} - \\overline{Y}_{sp}\\right) - D_0}{\\sqrt{\\frac{S^{2}_{rj}}{n_{rj}}+\\frac{S^{2}_{sp}}{n_{sp}}}} \\sim N(0,1) $$\r\n",
        "\r\n",
        "<font color='red'> Observación: El Teorema del límite central (TLC) garantiza la distribución normal de esta estadística de prueba.</font>"
      ]
    },
    {
      "cell_type": "code",
      "metadata": {
        "id": "b3Y_CZmzpsls",
        "colab": {
          "base_uri": "https://localhost:8080/"
        },
        "outputId": "87fbf091-425d-43e7-a5af-c9fbf20c8421"
      },
      "source": [
        "varianza_muestral_rj = rj.var()\r\n",
        "varianza_muestral_rj"
      ],
      "execution_count": 12,
      "outputs": [
        {
          "output_type": "execute_result",
          "data": {
            "text/plain": [
              "21565214.298272368"
            ]
          },
          "metadata": {
            "tags": []
          },
          "execution_count": 12
        }
      ]
    },
    {
      "cell_type": "code",
      "metadata": {
        "colab": {
          "base_uri": "https://localhost:8080/"
        },
        "id": "c9bVDWlC44i2",
        "outputId": "78a8de56-fdd1-4851-ced1-e53e57eaadfb"
      },
      "source": [
        "varianza_muestral_sp = sp.var()\r\n",
        "varianza_muestral_sp"
      ],
      "execution_count": 13,
      "outputs": [
        {
          "output_type": "execute_result",
          "data": {
            "text/plain": [
              "13685443.647390857"
            ]
          },
          "metadata": {
            "tags": []
          },
          "execution_count": 13
        }
      ]
    },
    {
      "cell_type": "code",
      "metadata": {
        "id": "qNse2bFRpslu",
        "colab": {
          "base_uri": "https://localhost:8080/"
        },
        "outputId": "ec6b7d6d-2d35-49a6-d1be-bff68116ae66"
      },
      "source": [
        "numerador = (media_muestral_rj - media_muestral_sp) - D_0\r\n",
        "\r\n",
        "denominador = np.sqrt( varianza_muestral_rj/n_rj + varianza_muestral_sp/n_sp)\r\n",
        "\r\n",
        "Z = numerador / denominador\r\n",
        "Z\r\n"
      ],
      "execution_count": 14,
      "outputs": [
        {
          "output_type": "execute_result",
          "data": {
            "text/plain": [
              "-2.255318273608561"
            ]
          },
          "metadata": {
            "tags": []
          },
          "execution_count": 14
        }
      ]
    },
    {
      "cell_type": "markdown",
      "metadata": {
        "id": "iooB1aPHpslv"
      },
      "source": [
        "**Paso 4: Determinar la región crítica**"
      ]
    },
    {
      "cell_type": "markdown",
      "metadata": {
        "id": "x7vMHo8IW3vT"
      },
      "source": [
        "![Region Critica dos medias](https://caelum-online-public.s3.amazonaws.com/ESP-1778-estadistica-con-python-test-hipotesis/Region_Critica_Dif.png)"
      ]
    },
    {
      "cell_type": "markdown",
      "metadata": {
        "id": "seskp4PlXnT5"
      },
      "source": [
        "Calcule el valor critico\r\n",
        "\r\n",
        "<font color='red'>Obs: Como $\\alpha=0,05$ y la prueba es unilateral a izquierda, el área acumulada es 0,05 (ver gráfica arriba).</font>\r\n",
        "\r\n"
      ]
    },
    {
      "cell_type": "code",
      "metadata": {
        "id": "AL2i9JOTpslw",
        "colab": {
          "base_uri": "https://localhost:8080/"
        },
        "outputId": "d5fde7a1-bb98-4189-e8fc-bf7e633a3b0c"
      },
      "source": [
        "z_alpha = norm.ppf(0.05)\r\n",
        "z_alpha "
      ],
      "execution_count": 18,
      "outputs": [
        {
          "output_type": "execute_result",
          "data": {
            "text/plain": [
              "-1.6448536269514729"
            ]
          },
          "metadata": {
            "tags": []
          },
          "execution_count": 18
        }
      ]
    },
    {
      "cell_type": "markdown",
      "metadata": {
        "id": "8L6C4oK5X1Jt"
      },
      "source": [
        "**Paso 5: Tomar la decisión y concluir**"
      ]
    },
    {
      "cell_type": "markdown",
      "metadata": {
        "id": "4dn58Fc2pslx"
      },
      "source": [
        "Criterio de la región critica.\r\n",
        "\r\n",
        "<font color='red'>Verifique si su estadística de prueba cae o no en la región crítica </font>"
      ]
    },
    {
      "cell_type": "code",
      "metadata": {
        "id": "b-ER1HxsYQ6V",
        "colab": {
          "base_uri": "https://localhost:8080/"
        },
        "outputId": "c52af139-88c3-41e1-8403-20b70e8bcaf2"
      },
      "source": [
        "Z <= z_alpha"
      ],
      "execution_count": 19,
      "outputs": [
        {
          "output_type": "execute_result",
          "data": {
            "text/plain": [
              "True"
            ]
          },
          "metadata": {
            "tags": []
          },
          "execution_count": 19
        }
      ]
    },
    {
      "cell_type": "markdown",
      "metadata": {
        "id": "nitDwOyM6h6l"
      },
      "source": [
        "<font color='red'>Note que $Z$ está en la región crítica. Por lo tanto hay suficiente evidencia en la muestra para rechazar $H_0$.</font>"
      ]
    },
    {
      "cell_type": "markdown",
      "metadata": {
        "id": "bjJ7aDIRX8X1"
      },
      "source": [
        "Calcule el $p$-valor.\r\n",
        "\r\n",
        "Recuerque que si $p-\\textrm{valor} \\leq \\alpha$ rechazamos $H_0$."
      ]
    },
    {
      "cell_type": "markdown",
      "metadata": {
        "id": "9c4soiDR6_cU"
      },
      "source": [
        "<font color='red'>Tenemos una prueba unilateral a izquierda $(H_1: \\mu_{rj} < \\mu_{sp})$, entonces el p-valor se calcula como </font>\r\n",
        "\r\n",
        "$$p-\\textrm{valor}= P(W \\leq Z)$$."
      ]
    },
    {
      "cell_type": "code",
      "metadata": {
        "id": "UI1XGxfDYwcI",
        "colab": {
          "base_uri": "https://localhost:8080/"
        },
        "outputId": "b701103c-f0cd-4d35-c47e-8926cf3d6258"
      },
      "source": [
        "p_valor = norm.cdf(Z)\r\n",
        "p_valor "
      ],
      "execution_count": 21,
      "outputs": [
        {
          "output_type": "execute_result",
          "data": {
            "text/plain": [
              "0.012056679215693302"
            ]
          },
          "metadata": {
            "tags": []
          },
          "execution_count": 21
        }
      ]
    },
    {
      "cell_type": "code",
      "metadata": {
        "id": "nVCmrKVzYvzj",
        "colab": {
          "base_uri": "https://localhost:8080/"
        },
        "outputId": "6820e939-ce2b-4ddf-b2f6-1664953893e3"
      },
      "source": [
        "p_valor <= significancia"
      ],
      "execution_count": 22,
      "outputs": [
        {
          "output_type": "execute_result",
          "data": {
            "text/plain": [
              "True"
            ]
          },
          "metadata": {
            "tags": []
          },
          "execution_count": 22
        }
      ]
    },
    {
      "cell_type": "markdown",
      "metadata": {
        "id": "HoHLAlsJZgWa"
      },
      "source": [
        "<font color='green'>Conclusión: Tenemos suficiente evidencia en las muestras para rechaza la hipótesis nula $H_0$. Por lo tanto, la renta media de los jefes del hogar del estado de Rio de Janeiro es menor que la renta media de los jefes del hogar del estado de São Paulo. </font>"
      ]
    },
    {
      "cell_type": "markdown",
      "metadata": {
        "id": "9q17elMDY8pl"
      },
      "source": [
        "## Resuelva usando paquetes de Phyton"
      ]
    },
    {
      "cell_type": "markdown",
      "metadata": {
        "id": "UtWm-GiFPkyX"
      },
      "source": [
        "### Utilize DescrStatsW"
      ]
    },
    {
      "cell_type": "code",
      "metadata": {
        "id": "uW0uVFnFpsl1"
      },
      "source": [
        "test_rj = DescrStatsW(rj)"
      ],
      "execution_count": 23,
      "outputs": []
    },
    {
      "cell_type": "code",
      "metadata": {
        "id": "kP92TQqupsl1"
      },
      "source": [
        "test_sp = DescrStatsW(sp)"
      ],
      "execution_count": 24,
      "outputs": []
    },
    {
      "cell_type": "code",
      "metadata": {
        "id": "diOjg4G8psl2"
      },
      "source": [
        "test_1 = test_rj.get_compare(test_sp)"
      ],
      "execution_count": 25,
      "outputs": []
    },
    {
      "cell_type": "code",
      "metadata": {
        "id": "tweh7q_spsl5",
        "colab": {
          "base_uri": "https://localhost:8080/"
        },
        "outputId": "b9e37cbe-c4a0-4ed4-829d-3a025ac75d8a"
      },
      "source": [
        "z, p_valor = test_1.ztest_ind(alternative='smaller', value=D_0)\r\n",
        "print(z)\r\n",
        "print(p_valor)"
      ],
      "execution_count": 28,
      "outputs": [
        {
          "output_type": "stream",
          "text": [
            "-2.255318273608558\n",
            "0.012056679215693396\n"
          ],
          "name": "stdout"
        }
      ]
    },
    {
      "cell_type": "code",
      "metadata": {
        "colab": {
          "base_uri": "https://localhost:8080/"
        },
        "id": "dy9O1VEPDwKH",
        "outputId": "18d1c5eb-3b60-48c8-fbb0-adac830e89e3"
      },
      "source": [
        "p_valor <= significancia"
      ],
      "execution_count": 29,
      "outputs": [
        {
          "output_type": "execute_result",
          "data": {
            "text/plain": [
              "True"
            ]
          },
          "metadata": {
            "tags": []
          },
          "execution_count": 29
        }
      ]
    },
    {
      "cell_type": "markdown",
      "metadata": {
        "id": "Syf0s5X2Pkye"
      },
      "source": [
        "### Utilize CompareMeans"
      ]
    },
    {
      "cell_type": "code",
      "metadata": {
        "id": "qRkrt2XZhL9v"
      },
      "source": [
        "test_2 = CompareMeans(test_rj, test_sp)"
      ],
      "execution_count": 31,
      "outputs": []
    },
    {
      "cell_type": "code",
      "metadata": {
        "id": "tSbOZem9hLvs",
        "colab": {
          "base_uri": "https://localhost:8080/"
        },
        "outputId": "0839c93a-55ef-4333-fc56-e0aa70231b40"
      },
      "source": [
        "z,p_valor = test_2.ztest_ind(value=D_0,alternative='smaller')\r\n",
        "p_valor"
      ],
      "execution_count": 32,
      "outputs": [
        {
          "output_type": "execute_result",
          "data": {
            "text/plain": [
              "0.012056679215693396"
            ]
          },
          "metadata": {
            "tags": []
          },
          "execution_count": 32
        }
      ]
    },
    {
      "cell_type": "code",
      "metadata": {
        "id": "E3NF1BzYpsl6",
        "colab": {
          "base_uri": "https://localhost:8080/"
        },
        "outputId": "4f2b5246-c5db-4492-a5b5-4f587fc65da8"
      },
      "source": [
        "p_valor <= significancia"
      ],
      "execution_count": 33,
      "outputs": [
        {
          "output_type": "execute_result",
          "data": {
            "text/plain": [
              "True"
            ]
          },
          "metadata": {
            "tags": []
          },
          "execution_count": 33
        }
      ]
    },
    {
      "cell_type": "markdown",
      "metadata": {
        "id": "UnBVO1uDpslz"
      },
      "source": [
        "<font color='green'>Conclusión: Tenemos suficiente evidencia en las muestras para rechaza la hipótesis nula $H_0$. Por lo tanto, la renta media de los jefes del hogar del estado de Rio de Janeiro es menor que la renta media de los jefes del hogar del estado de São Paulo.</font>"
      ]
    },
    {
      "cell_type": "code",
      "metadata": {
        "id": "IAcPnKQArAny"
      },
      "source": [
        ""
      ],
      "execution_count": null,
      "outputs": []
    }
  ]
}