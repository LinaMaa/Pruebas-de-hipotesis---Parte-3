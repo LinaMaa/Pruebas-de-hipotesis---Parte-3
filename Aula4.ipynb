{
  "nbformat": 4,
  "nbformat_minor": 0,
  "metadata": {
    "colab": {
      "name": "Aula4.ipynb",
      "provenance": [],
      "collapsed_sections": [],
      "toc_visible": true
    },
    "kernelspec": {
      "display_name": "Python 3",
      "language": "python",
      "name": "python3"
    },
    "language_info": {
      "codemirror_mode": {
        "name": "ipython",
        "version": 3
      },
      "file_extension": ".py",
      "mimetype": "text/x-python",
      "name": "python",
      "nbconvert_exporter": "python",
      "pygments_lexer": "ipython3",
      "version": "3.6.5"
    }
  },
  "cells": [
    {
      "cell_type": "markdown",
      "metadata": {
        "id": "WvMflodMjQKe"
      },
      "source": [
        "# <font color=green size=10>CURSO DE ESTADÍSTICA - PARTE 3</font>\n",
        "\n",
        "***"
      ]
    },
    {
      "cell_type": "markdown",
      "metadata": {
        "id": "L7_ZbBBtpslb"
      },
      "source": [
        "# <font color=green>4. PRUEBA DE HIPÓTESIS PARA DIFERENCIA DE MEDIAS</font>\n",
        "\n",
        "\n",
        "***"
      ]
    },
    {
      "cell_type": "markdown",
      "metadata": {
        "id": "NRA6edvsrfaz"
      },
      "source": [
        "**Problema**\n",
        "\n",
        "En nuestro conjunto de datos de la **Encuesta Nacional por Muestra de Hogares - 2015** tenemos los salarios de los jefes de hogar. Un problema bastante conocido en Brasil es la **desigualdad de salarios entre hombres y mujeres**.  \n",
        "\n",
        "Con el objetivo de probar esta desigualdad, seleccione dos muestras aleatorias de los jefes del hogar, una con **500 hombres** y otra con **500 mujeres**. **Pruebe la igualdad de las medias de los salarios de los dos géneros utilizando un nivel de significancia del 1% y asuma que las desviaciones estándar son iguales.**"
      ]
    },
    {
      "cell_type": "markdown",
      "metadata": {
        "id": "dEz13KlAr7ag"
      },
      "source": [
        "Si denotamos por \\\\\n",
        "\n",
        "<font color='red'>$\\mu_H$</font> $\\Rightarrow$ el salario medio poblacional de jefes del hogar <font color='red'>hombres</font>,\n",
        "\n",
        "<font color='blue'>$\\mu_M$</font> $\\Rightarrow$  el salario medio poblacional de jefes del hogar <font color='blue'>mujeres</font>,\n",
        "\n",
        "podemos plantear las hipótesis como sigue\n",
        "\n",
        "$\n",
        "\\begin{cases}\n",
        "H_0: \\mu_H \\leq \\mu_M \\,  \\\\\n",
        "H_1: \\mu_H > \\mu_M\n",
        "\\end{cases}\n",
        "$\n",
        "**O equivalentemente**\n",
        "$\n",
        "\\begin{cases}\n",
        "H_0: \\mu_H - \\mu_M \\leq 0\\,  \\\\\n",
        "H_1: \\mu_H - \\mu_M > 0 \n",
        "\\end{cases}\n",
        "$\n",
        "***"
      ]
    },
    {
      "cell_type": "markdown",
      "metadata": {
        "id": "xzGuwM4xpslc"
      },
      "source": [
        "**Selecionando las muestras**"
      ]
    },
    {
      "cell_type": "code",
      "metadata": {
        "id": "nuNSrzfYpsld",
        "scrolled": true
      },
      "source": [
        "muestra_hombres = datos.query('Sexo == 0').sample(n=500, random_state = 101).Renta"
      ],
      "execution_count": null,
      "outputs": []
    },
    {
      "cell_type": "code",
      "metadata": {
        "id": "W-W9IOs1psle",
        "scrolled": true
      },
      "source": [
        "muestra_mujeres = datos.query('Sexo == 1').sample(n=500, random_state = 101).Renta"
      ],
      "execution_count": null,
      "outputs": []
    },
    {
      "cell_type": "markdown",
      "metadata": {
        "id": "FOFa-cHwpslg"
      },
      "source": [
        "**Datos del problema**"
      ]
    },
    {
      "cell_type": "code",
      "metadata": {
        "id": "BGyXCbompslh"
      },
      "source": [
        "significancia = 0.01\n",
        "confianza = 1- significancia\n",
        "n_H = 500\n",
        "n_M = 500"
      ],
      "execution_count": null,
      "outputs": []
    },
    {
      "cell_type": "markdown",
      "metadata": {
        "id": "EfKnJ3xijo0X"
      },
      "source": [
        "## **Haciendo cálculos**"
      ]
    },
    {
      "cell_type": "markdown",
      "metadata": {
        "id": "OL5v9jD2kHDS"
      },
      "source": [
        "**Paso 1: Establecer las hipótesis $H_0$ y $H_1$**\n",
        "\n"
      ]
    },
    {
      "cell_type": "markdown",
      "metadata": {
        "id": "41uS04lBmZls"
      },
      "source": [
        "Si denotamos por \\\\\n",
        "\n",
        "<font color='red'>$\\mu_H$</font> $\\Rightarrow$ el salario medio poblacional de jefes del hogar <font color='red'>hombres</font>,\n",
        "\n",
        "<font color='blue'>$\\mu_M$</font> $\\Rightarrow$  el salario medio poblacional de jefes del hogar <font color='blue'>mujeres</font>,\n",
        "\n",
        "podemos plantear las hipótesis como sigue\n",
        "\n",
        "$\n",
        "\\begin{cases}\n",
        "H_0: \\mu_H \\leq \\mu_M \\,  \\\\\n",
        "H_1: \\mu_H > \\mu_M\n",
        "\\end{cases}\n",
        "$\n",
        "**O equivalentemente**\n",
        "$\n",
        "\\begin{cases}\n",
        "H_0: \\mu_H - \\mu_M \\leq 0\\,  \\\\\n",
        "H_1: \\mu_H - \\mu_M > 0 \n",
        "\\end{cases}\n",
        "$\n",
        "\n",
        "Observe que en este caso tenemos una hipótesis <font color='green'> Unilateral a Derecha</font>."
      ]
    },
    {
      "cell_type": "markdown",
      "metadata": {
        "id": "appJ1tMKkRJt"
      },
      "source": [
        "**Paso 2: Fijar el nivel de significancia $\\alpha$ de la prueba**"
      ]
    },
    {
      "cell_type": "markdown",
      "metadata": {
        "id": "3kDAWQSUneCl"
      },
      "source": [
        "$\\alpha = 0,01$"
      ]
    },
    {
      "cell_type": "markdown",
      "metadata": {
        "id": "zpwPRUhPkxD2"
      },
      "source": [
        "**Paso 3: Determinar la distribución de muestreo y Estadística de prueba adecuada**"
      ]
    },
    {
      "cell_type": "markdown",
      "metadata": {
        "id": "7uDa6RFD9HkF"
      },
      "source": [
        "![Resumen dos medias](https://caelum-online-public.s3.amazonaws.com/ESP-1778-estadistica-con-python-test-hipotesis/Resumen_Dif.png)"
      ]
    },
    {
      "cell_type": "markdown",
      "metadata": {
        "id": "by92F6elnzEh"
      },
      "source": [
        "¿Es posible afirmar que las muestras provienen de una distribución normal?\n",
        "\n",
        ">*Respuesta*: No.\n",
        "\n",
        " ¿El tamaño de las muestras es grande?\n",
        "> *Respuesta*: Sí $(n_H = n_M = 500)$. \n",
        "\n",
        "Conforme las respuestas anteriores, la **estadística de prueba adecuada** es\n",
        "$$Z = \\frac{\\left(\\overline{X}_H - \\overline{Y}_M\\right) - D_0}{\\sqrt{\\frac{S^{2}_H}{n_H}+\\frac{S^{2}_M}{n_M}}} \\sim N(0,1)$$\n",
        "\n",
        "siendo:\n",
        ">- $\\overline{X}_H$: el salario medio muestral de los jefes del hogar que son hombres,\n",
        "\n",
        ">- $\\overline{Y}_M$: el salario medio muestral de los jefes del hogar que son mujeres,\n",
        "\n",
        ">- $S^{2}_H$: la varianza muestral del salario de los jefes del hogar que son hombres,\n",
        "\n",
        ">- $S^{2}_M$: la varianza muestral del salario de los jefes del hogar que son mujeres,\n",
        "\n",
        ">- $n_H$: Total de observaciones en la muestra de los salarios de los jefes del hogar que son hombres,\n",
        "\n",
        ">- $n_M$: Total de observaciones en la muestra de los salarios de los jefes del hogar que son mujeres,\n",
        "\n",
        ">- $D_0$: el valor de referecia de la diferencia entre $\\mu_H$ y $\\mu_M$."
      ]
    },
    {
      "cell_type": "code",
      "metadata": {
        "colab": {
          "base_uri": "https://localhost:8080/"
        },
        "id": "GK1_gn9Xz-1-",
        "outputId": "3a0b72d2-7f28-4273-cb5e-fbb21c19e525"
      },
      "source": [
        "media_muestral_H = muestra_hombres.mean()\r\n",
        "media_muestral_H"
      ],
      "execution_count": null,
      "outputs": [
        {
          "output_type": "execute_result",
          "data": {
            "text/plain": [
              "2142.608"
            ]
          },
          "metadata": {
            "tags": []
          },
          "execution_count": 60
        }
      ]
    },
    {
      "cell_type": "code",
      "metadata": {
        "colab": {
          "base_uri": "https://localhost:8080/"
        },
        "id": "5kxMduINz-q0",
        "outputId": "e9e98a2f-d2f5-40bb-a305-9bb4577fe45c"
      },
      "source": [
        "media_muestral_M = muestra_mujeres.mean()\r\n",
        "media_muestral_M"
      ],
      "execution_count": null,
      "outputs": [
        {
          "output_type": "execute_result",
          "data": {
            "text/plain": [
              "1357.528"
            ]
          },
          "metadata": {
            "tags": []
          },
          "execution_count": 61
        }
      ]
    },
    {
      "cell_type": "code",
      "metadata": {
        "colab": {
          "base_uri": "https://localhost:8080/"
        },
        "id": "JImuyoq_z-dK",
        "outputId": "f94d5a1b-463e-4e96-b005-abac2b7771a8"
      },
      "source": [
        "varianza_muestral_H = muestra_hombres.var()\r\n",
        "varianza_muestral_H"
      ],
      "execution_count": null,
      "outputs": [
        {
          "output_type": "execute_result",
          "data": {
            "text/plain": [
              "6492562.892120256"
            ]
          },
          "metadata": {
            "tags": []
          },
          "execution_count": 62
        }
      ]
    },
    {
      "cell_type": "code",
      "metadata": {
        "colab": {
          "base_uri": "https://localhost:8080/"
        },
        "id": "GtOdxUfnz-S5",
        "outputId": "12f47659-32f8-47a1-c086-56fd9216d90e"
      },
      "source": [
        "varianza_muestral_M = muestra_mujeres.var()\r\n",
        "varianza_muestral_M"
      ],
      "execution_count": null,
      "outputs": [
        {
          "output_type": "execute_result",
          "data": {
            "text/plain": [
              "2464589.748713426"
            ]
          },
          "metadata": {
            "tags": []
          },
          "execution_count": 63
        }
      ]
    },
    {
      "cell_type": "code",
      "metadata": {
        "id": "6s1CSIDjz-Hn"
      },
      "source": [
        "D_0 = 0"
      ],
      "execution_count": null,
      "outputs": []
    },
    {
      "cell_type": "markdown",
      "metadata": {
        "id": "S_ku8NxeTv0Z"
      },
      "source": [
        "$$Z = \\frac{\\left(\\overline{X}_H - \\overline{Y}_M\\right) - D_0}{\\sqrt{\\frac{S^{2}_H}{n_H}+\\frac{S^{2}_M}{n_M}}} $$"
      ]
    },
    {
      "cell_type": "code",
      "metadata": {
        "id": "Gew33H9IcsO0"
      },
      "source": [
        "numerador = (media_muestral_H - media_muestral_M) - D_0\r\n"
      ],
      "execution_count": null,
      "outputs": []
    },
    {
      "cell_type": "code",
      "metadata": {
        "id": "NGXVvRFTr9R2"
      },
      "source": [
        "denominador = np.sqrt( varianza_muestral_H/n_H + varianza_muestral_M/n_M)"
      ],
      "execution_count": null,
      "outputs": []
    },
    {
      "cell_type": "code",
      "metadata": {
        "colab": {
          "base_uri": "https://localhost:8080/"
        },
        "id": "vzHJTYkT0EKL",
        "outputId": "8a3a62c8-0b82-46fb-cac6-736f590a7014"
      },
      "source": [
        "Z = numerador/denominador\r\n",
        "Z"
      ],
      "execution_count": null,
      "outputs": [
        {
          "output_type": "execute_result",
          "data": {
            "text/plain": [
              "5.86562005776475"
            ]
          },
          "metadata": {
            "tags": []
          },
          "execution_count": 67
        }
      ]
    },
    {
      "cell_type": "markdown",
      "metadata": {
        "id": "uy1eWLbUkzR2"
      },
      "source": [
        "**Paso 4: Determinar la región crítica**"
      ]
    },
    {
      "cell_type": "markdown",
      "metadata": {
        "id": "YXM-UzVXC-7x"
      },
      "source": [
        "![Region Critica Renta](https://caelum-online-public.s3.amazonaws.com/ESP-1778-estadistica-con-python-test-hipotesis/Region_Critica_Renta.png)"
      ]
    },
    {
      "cell_type": "markdown",
      "metadata": {
        "id": "dssJjM8EtTGe"
      },
      "source": [
        "Obteniendo $z_\\alpha$ "
      ]
    },
    {
      "cell_type": "markdown",
      "metadata": {
        "id": "Pw9XX1tctbqV"
      },
      "source": [
        "https://docs.scipy.org/doc/scipy/reference/generated/scipy.stats.norm.html"
      ]
    },
    {
      "cell_type": "code",
      "metadata": {
        "id": "EjZdTjN6th4c"
      },
      "source": [
        "from scipy.stats import norm"
      ],
      "execution_count": null,
      "outputs": []
    },
    {
      "cell_type": "code",
      "metadata": {
        "colab": {
          "base_uri": "https://localhost:8080/"
        },
        "id": "rKG5bzoW0GxF",
        "outputId": "261be25b-caaa-43e4-9618-ce8c85b6f3a6"
      },
      "source": [
        "z_alpha = norm.ppf(0.99)\r\n",
        "z_alpha "
      ],
      "execution_count": null,
      "outputs": [
        {
          "output_type": "execute_result",
          "data": {
            "text/plain": [
              "2.3263478740408408"
            ]
          },
          "metadata": {
            "tags": []
          },
          "execution_count": 69
        }
      ]
    },
    {
      "cell_type": "markdown",
      "metadata": {
        "id": "IDUnaO41tv9P"
      },
      "source": [
        "Por lo tanto la Región Crítica es\n"
      ]
    },
    {
      "cell_type": "markdown",
      "metadata": {
        "id": "WpUF-RAoDsaL"
      },
      "source": [
        "![Valor Crítico Renta](https://caelum-online-public.s3.amazonaws.com/ESP-1778-estadistica-con-python-test-hipotesis/Valor_Critico_Renta.png)"
      ]
    },
    {
      "cell_type": "markdown",
      "metadata": {
        "id": "xJOdrXmClBMD"
      },
      "source": [
        "**Paso 5: Tomar la decisión y concluir**\n",
        "\n",
        "<font color='red'>¿$Z = 5,87 $ está en la Región Crítica?</font> o equivalentemente <font color='red'> ¿ $Z \\geq 2,33$?</font>"
      ]
    },
    {
      "cell_type": "code",
      "metadata": {
        "colab": {
          "base_uri": "https://localhost:8080/"
        },
        "id": "2wTSTnOB0JJz",
        "outputId": "e049c97d-4543-43f6-cfd8-0cb703390c61"
      },
      "source": [
        "Z >= z_alpha"
      ],
      "execution_count": null,
      "outputs": [
        {
          "output_type": "execute_result",
          "data": {
            "text/plain": [
              "True"
            ]
          },
          "metadata": {
            "tags": []
          },
          "execution_count": 70
        }
      ]
    },
    {
      "cell_type": "markdown",
      "metadata": {
        "id": "4CGzXWozvOhl"
      },
      "source": [
        "Observe que <font color='red'>$Z \\geq 2,33$</font>, por lo tanto hay suficiente evidencia en la muestra para <font color='red'>rechazar $H_0$</font>."
      ]
    },
    {
      "cell_type": "markdown",
      "metadata": {
        "id": "L5A1wU-7Eo7k"
      },
      "source": [
        "![Decision Renta](https://caelum-online-public.s3.amazonaws.com/ESP-1778-estadistica-con-python-test-hipotesis/Decision_Renta.png)"
      ]
    },
    {
      "cell_type": "markdown",
      "metadata": {
        "id": "vTzyADvYD01V"
      },
      "source": [
        "<font color='red'>Rechazamos $H_0$ si $p$-valor $\\leq \\alpha$.</font>\n"
      ]
    },
    {
      "cell_type": "markdown",
      "metadata": {
        "id": "qgyMZknaD-6M"
      },
      "source": [
        "Recordemos que cuando la prueba es unilateral a derecha $(H_1: \\mu_{H} - \\mu_{y} > 0)$ el $p$-valor se calcula como \n",
        "\n",
        "$$p-\\textrm{valor}= P(W \\geq Z) = 1-P(W < Z)$$.\n"
      ]
    },
    {
      "cell_type": "code",
      "metadata": {
        "colab": {
          "base_uri": "https://localhost:8080/"
        },
        "id": "eTo-9w-g0M8Y",
        "outputId": "503b3297-b9a9-42c7-fe85-4afda136ff7f"
      },
      "source": [
        "p_valor = 1- norm.cdf(Z)\r\n",
        "p_valor "
      ],
      "execution_count": null,
      "outputs": [
        {
          "output_type": "execute_result",
          "data": {
            "text/plain": [
              "2.237286800266247e-09"
            ]
          },
          "metadata": {
            "tags": []
          },
          "execution_count": 71
        }
      ]
    },
    {
      "cell_type": "code",
      "metadata": {
        "colab": {
          "base_uri": "https://localhost:8080/"
        },
        "id": "S3B1z3sg0Mon",
        "outputId": "6095432c-0b95-4d32-da03-b66dae71082d"
      },
      "source": [
        "p_valor<=significancia"
      ],
      "execution_count": null,
      "outputs": [
        {
          "output_type": "execute_result",
          "data": {
            "text/plain": [
              "True"
            ]
          },
          "metadata": {
            "tags": []
          },
          "execution_count": 72
        }
      ]
    },
    {
      "cell_type": "markdown",
      "metadata": {
        "id": "n8ynKTuiFZ0T"
      },
      "source": [
        "Observe que <font color='red'>$p-\\textrm{valor} \\leq \\alpha$</font>, por lo tanto hay suficiente evidencia en la muestra para <font color='red'>rechazar $H_0$</font>.\n",
        "\n"
      ]
    },
    {
      "cell_type": "markdown",
      "metadata": {
        "id": "gynXPo4T1LZ8"
      },
      "source": [
        "<font color='blue'>**Conclusión:** Tenemos suficiente envidencia muestral para rechazar $H_0$, por lo tanto \n",
        "se concluye que el ingreso promedio de los hombres jefes de hogar es superior al ingreso promedio de las mujeres jefas de hogar. Esto confirma la alegación de desigualdad de ingresos entre géneros.</font>"
      ]
    },
    {
      "cell_type": "markdown",
      "metadata": {
        "id": "8IIlYxHPlJ8p"
      },
      "source": [
        "## Usando biblioteca de Phyton"
      ]
    },
    {
      "cell_type": "markdown",
      "metadata": {
        "id": "uQ8LhvyK2wTJ"
      },
      "source": [
        "<font color='red'>Usando DescrStatsW</font>\n",
        "\n",
        "https://www.statsmodels.org/dev/generated/statsmodels.stats.weightstats.DescrStatsW.html\n"
      ]
    },
    {
      "cell_type": "code",
      "metadata": {
        "id": "9jo0ADOt26bD"
      },
      "source": [
        "from statsmodels.stats.weightstats import DescrStatsW, CompareMeans"
      ],
      "execution_count": null,
      "outputs": []
    },
    {
      "cell_type": "code",
      "metadata": {
        "id": "XNPsl4-jcLAF"
      },
      "source": [
        "test_H = DescrStatsW(muestra_hombres)\r\n",
        "test_M = DescrStatsW(muestra_mujeres)"
      ],
      "execution_count": null,
      "outputs": []
    },
    {
      "cell_type": "code",
      "metadata": {
        "id": "GiJ-qMStcL67"
      },
      "source": [
        "test_1 = test_H.get_compare(test_M)"
      ],
      "execution_count": null,
      "outputs": []
    },
    {
      "cell_type": "code",
      "metadata": {
        "colab": {
          "base_uri": "https://localhost:8080/"
        },
        "id": "1P2HUqb00URK",
        "outputId": "66390f93-df44-4ff0-d3e6-74f76f262f7a"
      },
      "source": [
        "test_1.ztest_ind(value=D_0,alternative='larger')"
      ],
      "execution_count": null,
      "outputs": [
        {
          "output_type": "execute_result",
          "data": {
            "text/plain": [
              "(5.865620057764754, 2.2372867859458255e-09)"
            ]
          },
          "metadata": {
            "tags": []
          },
          "execution_count": 76
        }
      ]
    },
    {
      "cell_type": "code",
      "metadata": {
        "colab": {
          "base_uri": "https://localhost:8080/"
        },
        "id": "pb9D5uHt0WHF",
        "outputId": "a8fd801d-13fa-437a-9b64-175f49109dda"
      },
      "source": [
        "z,p_valor = test_1.ztest_ind(value=D_0,alternative='larger')\r\n",
        "p_valor "
      ],
      "execution_count": null,
      "outputs": [
        {
          "output_type": "execute_result",
          "data": {
            "text/plain": [
              "2.2372867859458255e-09"
            ]
          },
          "metadata": {
            "tags": []
          },
          "execution_count": 77
        }
      ]
    },
    {
      "cell_type": "code",
      "metadata": {
        "id": "ohzl6sJMcLhz"
      },
      "source": [
        ""
      ],
      "execution_count": null,
      "outputs": []
    },
    {
      "cell_type": "code",
      "metadata": {
        "colab": {
          "base_uri": "https://localhost:8080/"
        },
        "id": "HNO9Rp710YDz",
        "outputId": "4372dda6-f67b-4efd-e442-6adbf26a7180"
      },
      "source": [
        "p_valor <= significancia"
      ],
      "execution_count": null,
      "outputs": [
        {
          "output_type": "execute_result",
          "data": {
            "text/plain": [
              "True"
            ]
          },
          "metadata": {
            "tags": []
          },
          "execution_count": 78
        }
      ]
    },
    {
      "cell_type": "markdown",
      "metadata": {
        "id": "VZYAVyTr5Lz1"
      },
      "source": [
        "Observe que <font color='red'>$p-\\textrm{valor} \\leq \\alpha$</font>, por lo tanto hay suficiente evidencia en la muestra para <font color='red'>rechazar $H_0$</font>.\n",
        "\n"
      ]
    },
    {
      "cell_type": "markdown",
      "metadata": {
        "id": "9ZTxE4fF5lz9"
      },
      "source": [
        "<font color='red'>Usando CompareMeans</font>\n",
        "\n",
        "https://www.statsmodels.org/dev/generated/statsmodels.stats.weightstats.CompareMeans.ttest_ind.html"
      ]
    },
    {
      "cell_type": "code",
      "metadata": {
        "id": "l1SWcRzSdQps"
      },
      "source": [
        "test_2 = CompareMeans(test_H,test_M)\r\n"
      ],
      "execution_count": null,
      "outputs": []
    },
    {
      "cell_type": "code",
      "metadata": {
        "colab": {
          "base_uri": "https://localhost:8080/"
        },
        "id": "fX8E5soy0ae6",
        "outputId": "c02e9962-964c-4af9-da01-837f5c9e7321"
      },
      "source": [
        "z,p_valor = test_2.ztest_ind(value=D_0,alternative='larger')\r\n",
        "p_valor"
      ],
      "execution_count": null,
      "outputs": [
        {
          "output_type": "execute_result",
          "data": {
            "text/plain": [
              "2.2372867859458255e-09"
            ]
          },
          "metadata": {
            "tags": []
          },
          "execution_count": 80
        }
      ]
    },
    {
      "cell_type": "code",
      "metadata": {
        "colab": {
          "base_uri": "https://localhost:8080/"
        },
        "id": "rlyR26Nf0cRS",
        "outputId": "41915ada-1ed9-433e-8d21-8d70a5ef4d6f"
      },
      "source": [
        "p_valor <= significancia"
      ],
      "execution_count": null,
      "outputs": [
        {
          "output_type": "execute_result",
          "data": {
            "text/plain": [
              "True"
            ]
          },
          "metadata": {
            "tags": []
          },
          "execution_count": 81
        }
      ]
    },
    {
      "cell_type": "markdown",
      "metadata": {
        "id": "WOQTUjtH9en8"
      },
      "source": [
        "Observe que <font color='red'>$p-\\textrm{valor} \\leq \\alpha$</font>, por lo tanto hay suficiente evidencia en la muestra para <font color='red'>rechazar $H_0$</font>."
      ]
    },
    {
      "cell_type": "markdown",
      "metadata": {
        "id": "Y98i7H0z5ZRi"
      },
      "source": [
        "<font color='blue'>**Conclusión:** Tenemos suficiente envidencia muestral para rechazar $H_0$, por lo tanto \n",
        "se concluye que el ingreso promedio de los hombres jefes de hogar es superior al ingreso promedio de las mujeres jefas de hogar. Esto confirma la alegación de desigualdad de ingresos entre géneros.</font>"
      ]
    },
    {
      "cell_type": "markdown",
      "metadata": {
        "id": "I63jU7loEIe5"
      },
      "source": [
        "## Generalizando"
      ]
    },
    {
      "cell_type": "markdown",
      "metadata": {
        "id": "YGLyeg2CESIh"
      },
      "source": [
        "**En este tipo de prueba se comparan las medias de dos poblaciones independientes.**"
      ]
    },
    {
      "cell_type": "markdown",
      "metadata": {
        "id": "phtYeZncE2iG"
      },
      "source": [
        "Suponga que se tienen dos poblaciones independientes y que se extrae una muestra aleatoria de cada una, digamos $x$ y $y$, cuyas medias (poblacionales) son $\\mu_x$ y $\\mu_y$, y con varianzas (poblacionales) $\\sigma^{2}_x$ y $\\sigma^{2}_y$, respectivamente.\n",
        "\n",
        "Considere que el interés es probar hipótesis acerca de $\\mu_x - \\mu_y$, entonces se pueden plantear las siguientes pruebas de hipótesis:\n",
        "\n",
        ">1. Prueba de hipótesis <font color='red'>bilateral</b></font> $\\hspace{2.2 cm}$\n",
        "$\n",
        "\\begin{cases}\n",
        "H_0: \\mu_x = \\mu_y\\\\\n",
        "H_1: \\mu_x \\neq \\mu_y\n",
        "\\end{cases}\n",
        "$\n",
        "<font color='blue'>o equivalentemente </b></font>\n",
        "$\n",
        "\\begin{cases}\n",
        "H_0: \\mu_x - \\mu_y = D_0\\\\\n",
        "H_1: \\mu_x -  \\mu_y \\neq D_0\n",
        "\\end{cases}\n",
        "$\n",
        "\n",
        "> 2. Prueba de hipótesis <font color='red'>unilateral a derecha</font> $\\hspace{0.1 cm}$\n",
        "$\n",
        "\\begin{cases}\n",
        "H_0: \\mu_x \\leq \\mu_y\\\\\n",
        "H_1: \\mu_x > \\mu_y\n",
        "\\end{cases}\n",
        "$\n",
        "<font color='blue'>o equivalentemente </b></font>\n",
        "$\n",
        "\\begin{cases}\n",
        "H_0: \\mu_x - \\mu_y \\leq D_0\\\\\n",
        "H_1: \\mu_x -  \\mu_y > D_0\n",
        "\\end{cases}\n",
        "$\n",
        "\n",
        ">3. Prueba de hipótesis <font color='red'>unilateral a izquierda</font>\n",
        "$\n",
        "\\begin{cases}\n",
        "H_0: \\mu_x \\geq \\mu_y\\\\\n",
        "H_1: \\mu_x < \\mu_y\n",
        "\\end{cases}\n",
        "$\n",
        "<font color='blue'>o equivalentemente </b></font>\n",
        "$\n",
        "\\begin{cases}\n",
        "H_0: \\mu_x - \\mu_y \\geq D_0\\\\\n",
        "H_1: \\mu_x -  \\mu_y < D_0\n",
        "\\end{cases}\n",
        "$\n",
        "\n",
        "**$D_0$ es el valor de referencia de la diferencia entre las medias poblacionales.**"
      ]
    },
    {
      "cell_type": "markdown",
      "metadata": {
        "id": "X1clGeR4GPNI"
      },
      "source": [
        "### **Estadística de Prueba** "
      ]
    },
    {
      "cell_type": "markdown",
      "metadata": {
        "id": "_UCds5LqGS35"
      },
      "source": [
        "<font color='red'>Puntos importantes</font>\n",
        "\n",
        "> 1. Si ambas muestras aleatorias proviene de **distribuciones normales con varianzas conocidas** $(\\sigma^2_{x}, \\sigma^2_{y})$, la estadística de prueba es\n",
        "\n",
        "$$Z = \\frac{\\left(\\overline{X} - \\overline{Y}\\right) - D_{0}}{\\sqrt{\\frac{\\sigma^2_{x}}{n_{x}} + \\frac{\\sigma^2_{y}}{n_{y}}}} \\sim N(0,1)$$\n",
        "en que $\\overline{X}$ y $\\overline{Y}$ son las medias muestrales.\n",
        "\n",
        "> 2. Si ambas muestras aleatorias proviene de **distribuciones normales con varianzas desconocidas** $(\\sigma^2_{x}, \\sigma^2_{y})$, la estadística de prueba dependerá de como sean $\\sigma^2_{x}$ y $\\sigma^2_{y}$:\n",
        "\n",
        ">- **Si** $\\boldsymbol{\\sigma^{2}_{x}=\\sigma^{2}_{y}}$, la estadística de prueba es\n",
        "$$ T = \\frac{\\left(\\overline{X} - \\overline{Y}\\right) - D_{0}}{S_{p}\\sqrt{\\frac{1}{n_{x}} + \\frac{1}{n_{y}}}} \\sim t_{(n_{x}+n_{y}-2)}; \\hspace{0.9 cm} S_{p}=\\frac{(n_{x}-1)S^{2}_{x} + (n_{y}-1)S^{2}_{y}}{n_{x}+n_{y}-2}$$\n",
        "donde $n_{x}+n_{y}-2$ son los grados de libertad de la distribución t-Student.\n",
        "\n",
        ">- **Si** $\\boldsymbol{\\sigma^{2}_{x}\\neq \\sigma^{2}_{y}}$, la estadística de prueba es\n",
        "$$ T = \\frac{\\left(\\overline{X} - \\overline{Y}\\right) - D_{0}}{\\sqrt{\\frac{S^{2}_{x}}{n_{x}} + \\frac{S^{2}_{y}}{n_{y}}}} \\stackrel{aprox}{\\sim} t_{v}; \\hspace{0.9 cm} v= \\frac{\\left(\\frac{S^2_{x}}{n_{x}}+\\frac{S^{2}_{y}}{n_y}\\right)^2}{ \\frac{\\left(S^2_{x}/n_{x}\\right)^2}{n_{x}+2} + \\frac{\\left(S^2_{y}/n_{y}\\right)^2}{n_{y}+1} } - 2  $$\n",
        "\n",
        "> 3. Si no sabemos la procedencia distribucional de las muestras, pero **$n$ es suficientemente grande $(n\\geq 30)$**, la estadística de prueba adecuada es\n",
        "$$ Z = \\frac{\\left(\\overline{X} - \\overline{Y}\\right) - D_{0}}{\\sqrt{\\frac{\\sigma^2_{x}}{n_{x}} + \\frac{\\sigma^2_{y}}{n_{y}}}}  \\sim N(0,1) $$\n",
        "\n",
        "> 4. Si no sabemos la procedencia distribucional de las muestras y **$n$ es pequeño $(n<30)$** debemos aumentar el tamaño de la muestra o usar pruebas no paramétricas."
      ]
    },
    {
      "cell_type": "markdown",
      "metadata": {
        "id": "5_Ic9tMmFWWj"
      },
      "source": [
        "![Resumen dos medias](https://caelum-online-public.s3.amazonaws.com/ESP-1778-estadistica-con-python-test-hipotesis/Resumen_Dif.png)"
      ]
    },
    {
      "cell_type": "markdown",
      "metadata": {
        "id": "YNAYSeWvGhjO"
      },
      "source": [
        "### **Región Critica**"
      ]
    },
    {
      "cell_type": "markdown",
      "metadata": {
        "id": "dgilVjtdFwqU"
      },
      "source": [
        "![Region Critica dos medias](https://caelum-online-public.s3.amazonaws.com/ESP-1778-estadistica-con-python-test-hipotesis/Region_Critica_Dif.png)"
      ]
    },
    {
      "cell_type": "markdown",
      "metadata": {
        "id": "rgWzZo8kHqLt"
      },
      "source": [
        "### **$p$-valor**"
      ]
    },
    {
      "cell_type": "markdown",
      "metadata": {
        "id": "Tl_o4UkRHwuQ"
      },
      "source": [
        "<font color='red'>Puntos importantes</font>\n",
        "\n",
        "Podemos decidir si rechazamos o no $H_0$ usando dos criterios:\n",
        "> 1. Si la Estadística de prueba $(Z \\, \\textrm{o}\\, T)$  cae en la región de rechazo, entonces rechazamos $H_0$. \n",
        "> 2. Si $p$-valor $\\leq \\alpha$ rechazamos $H_0$. Asuma que $W$ es una estadística de prueba ($Z$ o $T$) cualquiera, entonces\n",
        ">- Prueba <font color='red'>bilateral $(H_1: \\mu_{x} - \\mu_{y} \\neq D_0)$</font>\n",
        "\n",
        "$$p-\\textrm{valor}= 2\\times P(W \\geq Z) = 2\\times [1-P(W < Z) ] $$.\n",
        "\n",
        ">- Prueba <font color='red'>Unilateral a derecha $(H_1: \\mu_{x} - \\mu_{y} > D_0)$</font>\n",
        "\n",
        "$$p-\\textrm{valor}= P(W \\geq Z)= 1-P(W < Z)$$\n",
        "\n",
        ">- Prueba <font color='red'>Unilateral a izquierda $(H_1:\\mu_{x} - \\mu_{y} < D_0)$</font> \n",
        "\n",
        "$$p-\\textrm{valor}= P(W \\leq Z)$$."
      ]
    }
  ]
}