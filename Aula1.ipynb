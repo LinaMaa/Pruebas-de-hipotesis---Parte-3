{
  "nbformat": 4,
  "nbformat_minor": 0,
  "metadata": {
    "colab": {
      "name": "Aula1.ipynb",
      "provenance": [],
      "collapsed_sections": [
        "cVgsZ_E3jQKg"
      ],
      "toc_visible": true
    },
    "kernelspec": {
      "display_name": "Python 3",
      "language": "python",
      "name": "python3"
    },
    "language_info": {
      "codemirror_mode": {
        "name": "ipython",
        "version": 3
      },
      "file_extension": ".py",
      "mimetype": "text/x-python",
      "name": "python",
      "nbconvert_exporter": "python",
      "pygments_lexer": "ipython3",
      "version": "3.6.5"
    }
  },
  "cells": [
    {
      "cell_type": "markdown",
      "metadata": {
        "id": "WvMflodMjQKe"
      },
      "source": [
        "# <font color=green size=10>CURSO DE ESTADÍSTICA - PARTE 3</font>\n",
        "\n",
        "***"
      ]
    },
    {
      "cell_type": "markdown",
      "metadata": {
        "id": "cVgsZ_E3jQKg"
      },
      "source": [
        "# <font color=green>1. DESCRIPCIÓN Y LECTURA DE LOS DATOS</font>\n",
        "***"
      ]
    },
    {
      "cell_type": "markdown",
      "metadata": {
        "id": "TDjqYYNojQKh"
      },
      "source": [
        "**Encuesta Nacional de Hogares -- 2015** \n"
      ]
    },
    {
      "cell_type": "markdown",
      "metadata": {
        "id": "iN1gIbaKjQKh"
      },
      "source": [
        "La <b> Encuesta Nacional de Hogares (PNDA, del portugués Pesquisa Nacional por Amostra de Domicílios)</b> anualmente investiga, de forma permanente, las características generales de la población, educación, trabajo, ingresos y vivienda, y otras con frecuencia variable, de acuerdo con las necesidades de información del país, tales como las características de migración, fecundidad, nupcialidad, salud, seguridad alimentaria, entre otros temas. La recopilación de estas estadísticas constituye, durante los 49 años de realización de la investigación, **un importante instrumento para la formulación, validación y evaluación de políticas orientadas al desarrollo socioeconómico y a la mejora de las condiciones de vida en Brasil**."
      ]
    },
    {
      "cell_type": "markdown",
      "metadata": {
        "id": "U6V7br1RjQKi"
      },
      "source": [
        "## Fuente\n"
      ]
    },
    {
      "cell_type": "markdown",
      "metadata": {
        "id": "FRjjSwjdvBbp"
      },
      "source": [
        "https://www.ibge.gov.br/estatisticas/sociais/populacao/9127-pesquisa-nacional-por-amostra-de-domicilios.html?=&t=microdados\n"
      ]
    },
    {
      "cell_type": "markdown",
      "metadata": {
        "id": "xkJqd7RwoGiN"
      },
      "source": [
        "## Variables"
      ]
    },
    {
      "cell_type": "markdown",
      "metadata": {
        "id": "r0Fe_qnzjQKj"
      },
      "source": [
        "\n",
        "> ### Renta \n",
        "> ***\n",
        "\n",
        "Ingreso mensual del jefe del hogar.\n",
        "\n",
        "> ### Edad\n",
        "> ***\n",
        "\n",
        "Edad (en años) del jefe del hogar.\n",
        "\n",
        "> ### Altura (construida)\n",
        "> ***\n",
        "\n",
        "Altura (en metros) del jefe del hogar.\n",
        "\n",
        "> ### UF (Unidad de federación)\n",
        "> ***\n",
        "\n",
        "|Código|Descripción|\n",
        "|---|---|\n",
        "|11|Rondônia|\n",
        "|12|Acre|\n",
        "|13|Amazonas|\n",
        "|14|Roraima|\n",
        "|15|Pará|\n",
        "|16|Amapá|\n",
        "|17|Tocantins|\n",
        "|21|Maranhão|\n",
        "|22|Piauí|\n",
        "|23|Ceará|\n",
        "|24|Rio Grande do Norte|\n",
        "|25|Paraíba|\n",
        "|26|Pernambuco|\n",
        "|27|Alagoas|\n",
        "|28|Sergipe|\n",
        "|29|Bahia|\n",
        "|31|Minas Gerais|\n",
        "|32|Espírito Santo|\n",
        "|33|Rio de Janeiro|\n",
        "|35|São Paulo|\n",
        "|41|Paraná|\n",
        "|42|Santa Catarina|\n",
        "|43|Rio Grande do Sul|\n",
        "|50|Mato Grosso do Sul|\n",
        "|51|Mato Grosso|\n",
        "|52|Goiás|\n",
        "|53|Distrito Federal|\n",
        "\n",
        "> ### Sexo\t\n",
        "> ***\n",
        "\n",
        "|Código|Descripción|\n",
        "|---|---|\n",
        "|0|Masculino|\n",
        "|1|Femenino|\n",
        "\n",
        "> ### Años de estudio\n",
        "> ***\n",
        "\n",
        "|Código|Descripción|\n",
        "|---|---|\n",
        "|1|Sin instrucción o menos de 1 año|\n",
        "|2|1 año|\n",
        "|3|2 años|\n",
        "|4|3 años|\n",
        "|5|4 años|\n",
        "|6|5 años|\n",
        "|7|6 años|\n",
        "|8|7 años|\n",
        "|9|8 años|\n",
        "|10|9 años|\n",
        "|11|10 años|\n",
        "|12|11 años|\n",
        "|13|12 años|\n",
        "|14|13 años|\n",
        "|15|14 años|\n",
        "|16|15 años o más|\n",
        "|17|No determinados| \n",
        "||No aplica|\n",
        "\n",
        "> ### Color \n",
        "> ***\n",
        "\n",
        "|Código|Descripción|\n",
        "|---|---|\n",
        "|0|Indigena|\n",
        "|2|Blanca|\n",
        "|4|Negra|\n",
        "|6|Amarilla|\n",
        "|8|Parda|\n",
        "|9|Sin declaración|"
      ]
    },
    {
      "cell_type": "markdown",
      "metadata": {
        "id": "OK1IQH5cX7Gb"
      },
      "source": [
        "<font color='red'>Observación</font>\n",
        "***\n",
        "> Se realizaron los siguientes tratamientos sobre los datos originales:\n",
        "> 1. Se eliminaron los registros en los que la <b>Renta</b> no era válida (999 999 999 999);\n",
        "> 2. Se eliminaron los registros en los que la <b>Renta</b> era missing;\n",
        "> 3. Sólo se consideraron los registros de las  <b>personas de referencia</b> de cada hogar (responsables del hogar)."
      ]
    },
    {
      "cell_type": "markdown",
      "metadata": {
        "id": "8Rw70V6ojQKk"
      },
      "source": [
        "## Importando Bibliotecas y leyendo la base de datos\n",
        "\n",
        "https://pandas.pydata.org/"
      ]
    },
    {
      "cell_type": "code",
      "metadata": {
        "id": "N7g1I3sFtsI0"
      },
      "source": [
        " import pandas as pd \r\n",
        " import numpy as np"
      ],
      "execution_count": null,
      "outputs": []
    },
    {
      "cell_type": "code",
      "metadata": {
        "id": "_8WyYZ1Vtrcu"
      },
      "source": [
        "datos = pd.read_csv('datos.csv')"
      ],
      "execution_count": null,
      "outputs": []
    },
    {
      "cell_type": "code",
      "metadata": {
        "colab": {
          "base_uri": "https://localhost:8080/",
          "height": 202
        },
        "id": "rBy7hxMXtrI1",
        "outputId": "fac249ab-8717-414b-9f53-5083a1604844"
      },
      "source": [
        "datos.head()"
      ],
      "execution_count": null,
      "outputs": [
        {
          "output_type": "execute_result",
          "data": {
            "text/html": [
              "<div>\n",
              "<style scoped>\n",
              "    .dataframe tbody tr th:only-of-type {\n",
              "        vertical-align: middle;\n",
              "    }\n",
              "\n",
              "    .dataframe tbody tr th {\n",
              "        vertical-align: top;\n",
              "    }\n",
              "\n",
              "    .dataframe thead th {\n",
              "        text-align: right;\n",
              "    }\n",
              "</style>\n",
              "<table border=\"1\" class=\"dataframe\">\n",
              "  <thead>\n",
              "    <tr style=\"text-align: right;\">\n",
              "      <th></th>\n",
              "      <th>UF</th>\n",
              "      <th>Sexo</th>\n",
              "      <th>Edad</th>\n",
              "      <th>Color</th>\n",
              "      <th>Anos de Estudio</th>\n",
              "      <th>Renta</th>\n",
              "      <th>Altura</th>\n",
              "    </tr>\n",
              "  </thead>\n",
              "  <tbody>\n",
              "    <tr>\n",
              "      <th>0</th>\n",
              "      <td>11</td>\n",
              "      <td>0</td>\n",
              "      <td>23</td>\n",
              "      <td>8</td>\n",
              "      <td>12</td>\n",
              "      <td>800</td>\n",
              "      <td>1.603808</td>\n",
              "    </tr>\n",
              "    <tr>\n",
              "      <th>1</th>\n",
              "      <td>11</td>\n",
              "      <td>1</td>\n",
              "      <td>23</td>\n",
              "      <td>2</td>\n",
              "      <td>12</td>\n",
              "      <td>1150</td>\n",
              "      <td>1.739790</td>\n",
              "    </tr>\n",
              "    <tr>\n",
              "      <th>2</th>\n",
              "      <td>11</td>\n",
              "      <td>1</td>\n",
              "      <td>35</td>\n",
              "      <td>8</td>\n",
              "      <td>15</td>\n",
              "      <td>880</td>\n",
              "      <td>1.760444</td>\n",
              "    </tr>\n",
              "    <tr>\n",
              "      <th>3</th>\n",
              "      <td>11</td>\n",
              "      <td>0</td>\n",
              "      <td>46</td>\n",
              "      <td>2</td>\n",
              "      <td>6</td>\n",
              "      <td>3500</td>\n",
              "      <td>1.783158</td>\n",
              "    </tr>\n",
              "    <tr>\n",
              "      <th>4</th>\n",
              "      <td>11</td>\n",
              "      <td>1</td>\n",
              "      <td>47</td>\n",
              "      <td>8</td>\n",
              "      <td>9</td>\n",
              "      <td>150</td>\n",
              "      <td>1.690631</td>\n",
              "    </tr>\n",
              "  </tbody>\n",
              "</table>\n",
              "</div>"
            ],
            "text/plain": [
              "   UF  Sexo  Edad  Color  Anos de Estudio  Renta    Altura\n",
              "0  11     0    23      8               12    800  1.603808\n",
              "1  11     1    23      2               12   1150  1.739790\n",
              "2  11     1    35      8               15    880  1.760444\n",
              "3  11     0    46      2                6   3500  1.783158\n",
              "4  11     1    47      8                9    150  1.690631"
            ]
          },
          "metadata": {
            "tags": []
          },
          "execution_count": 3
        }
      ]
    },
    {
      "cell_type": "markdown",
      "metadata": {
        "id": "LR81wvaQzKFb"
      },
      "source": [
        "## Algunas preguntas que pueden ser de interés\n",
        "> 1. ¿La variable altura se distribuye como una normal? \n",
        "> 2. ¿Los jefes del hogar tienen en promedio 1,70 cm de altura?\n",
        "> 3. ¿Las mujeres ganan menos que los hombres?"
      ]
    },
    {
      "cell_type": "markdown",
      "metadata": {
        "id": "nk65O0lepz57"
      },
      "source": [
        "# <font color=green>2. PRUEBA DE HIPÓTESIS</font>\n",
        "\n",
        "***"
      ]
    },
    {
      "cell_type": "markdown",
      "metadata": {
        "id": "OjHpQHFHpsi3"
      },
      "source": [
        "Una prueba de hipótesis estadística es un procedimiento que permite decidir entre dos hipótesis opuestas: <b>Hipótesis nula</b> $(H_0)$  y la <b>Hipótesis alterna</b> $(H_1)$, las cuales conjeturan sobre alguna caraterística desconocida de la población de interés.\n",
        "\n",
        "Para realizar este procedimiento se retira una muestra aleatoria de la población bajo estudio y con base en las evidencias de esa muestra se toma la decisión de rechazar o no rechazar $H_0$.<font color='red'> Note que la decisión es sobre $H_0$</font>! \n"
      ]
    },
    {
      "cell_type": "markdown",
      "metadata": {
        "id": "-SudJslWB7iX"
      },
      "source": [
        "## **Entendiendo $H_0$ y $H_1$**\n",
        "Considere que hay una persona que está siendo juzgada.\n",
        "\n",
        "\n"
      ]
    },
    {
      "cell_type": "markdown",
      "metadata": {
        "id": "whFfEMN7JSjz"
      },
      "source": [
        "$H_0$:  La persona es **inocente**.\n",
        "\n",
        "$H_1$: La persona es **culpable**.\n"
      ]
    },
    {
      "cell_type": "markdown",
      "metadata": {
        "id": "bS0h3RoiDC-S"
      },
      "source": [
        "## **Errores Inferenciales**\n",
        "\n",
        "Un proceso inferencial siempre se encuentra sujeto a errores. \n",
        "\n",
        "\n",
        "\n"
      ]
    },
    {
      "cell_type": "markdown",
      "metadata": {
        "id": "WuqNaK8LJHSm"
      },
      "source": [
        " <b>Error Tipo I</b>: Rechazar $H_0$ siendo $H_0$ verdadera. \n",
        "\n",
        "> *Ejemplo: La persona es condenada a pesar de que realmente inocente*.\n",
        "\n",
        "\n",
        "\n",
        " <b>Error Tipo II</b>: No rechazar $H_0$ siendo $H_0$ falsa.\n",
        "\n",
        ">*Ejemplo: La persona es absuelta a pesar de ser culpable*.\n",
        "\n",
        "\n",
        " "
      ]
    },
    {
      "cell_type": "markdown",
      "metadata": {
        "id": "WQRkTtEGvb4h"
      },
      "source": [
        "<b>Notación de los errores </b>\n",
        "\n",
        "P(Error Tipo I) = $\\alpha$  (<b>Nivel de significancia </b>)\n",
        "\n",
        "P(Error Tipo II) = $\\beta$, (siendo $1-\\beta$ la <b>Potencia</b> )\n"
      ]
    },
    {
      "cell_type": "markdown",
      "metadata": {
        "id": "qYs6fFSVouVu"
      },
      "source": [
        "El objetivo principal es proponer algún procedimiento de prueba de hipótesis que minimice los dos errores. Sin embargo, **en la práctica, solo se controla el error de tipo I** y generalmente su probabilidad es fijada en 0,05 o 0,01."
      ]
    },
    {
      "cell_type": "markdown",
      "metadata": {
        "id": "eVEPJhlfEvDS"
      },
      "source": [
        "## **Criterio para decidir si se rechaza o no $H_0$**\n",
        "\n",
        "\n"
      ]
    },
    {
      "cell_type": "markdown",
      "metadata": {
        "id": "ke0z42iIJinn"
      },
      "source": [
        "<b>Región Crítica</b>: Valores de la **estadística de prueba** que conllevan al rechazo de $H_0$.\n",
        "\n",
        "<b>$p$-valor</b>: Menor nivel de significancia con el cuál rechazamos $H_0$ siendo aplicado después que el experimento fue realizado. \n",
        ">- Si $p$-valor $\\leq \\alpha$ rechazamos $H_0$.\n",
        "\n",
        ">- Si $p$-valor $> \\alpha$ no rechazamos $H_0$.\n"
      ]
    },
    {
      "cell_type": "markdown",
      "metadata": {
        "id": "qjqWccNspsi4"
      },
      "source": [
        "## <font color=green>2.1 Prueba de normalidad </font>\n",
        "\n",
        "***\n",
        "\n",
        "\n",
        "¿La variable altura se distribuye como una normal?\n",
        "\n"
      ]
    },
    {
      "cell_type": "markdown",
      "metadata": {
        "id": "shcF28ToEGPQ"
      },
      "source": [
        "**Es una prueba que nos permite determinar si un conjunto de datos proviene o no de una distribución normal.**"
      ]
    },
    {
      "cell_type": "markdown",
      "metadata": {
        "id": "gcHgRPBpLHX6"
      },
      "source": [
        "Hipótesis de interés\n",
        "\n",
        "$H_0$:  La muestra proviene de una distribución normal.\n",
        "\n",
        "$H_1$: La muestra no proviene de una distribución normal."
      ]
    },
    {
      "cell_type": "markdown",
      "metadata": {
        "id": "J31EXO9lMd9P"
      },
      "source": [
        "**Importando biblioteca**\n",
        "\n",
        "https://docs.scipy.org/doc/scipy/reference/generated/scipy.stats.normaltest.html"
      ]
    },
    {
      "cell_type": "code",
      "metadata": {
        "id": "qG1cQVnQtzx_"
      },
      "source": [
        "from scipy.stats import normaltest "
      ],
      "execution_count": null,
      "outputs": []
    },
    {
      "cell_type": "markdown",
      "metadata": {
        "id": "ZQGfD9ifO8bs"
      },
      "source": [
        "La función **normaltest** prueba la hipótesis nula $H_0$ de que la muestra proviene de una distribución normal."
      ]
    },
    {
      "cell_type": "markdown",
      "metadata": {
        "id": "fKqpcVpyNiLz"
      },
      "source": [
        "<font color='red'>Rechazamos $H_0$ si el $p$-valor $\\leq \\alpha$.</font>\n"
      ]
    },
    {
      "cell_type": "markdown",
      "metadata": {
        "id": "6lCzBcsmaVNh"
      },
      "source": [
        "Fijando el nivel de significancia $(\\alpha)$"
      ]
    },
    {
      "cell_type": "code",
      "metadata": {
        "id": "XPSlrjbft4Ii"
      },
      "source": [
        "significancia = 0.05"
      ],
      "execution_count": null,
      "outputs": []
    },
    {
      "cell_type": "markdown",
      "metadata": {
        "id": "wQ3mdZEHOYab"
      },
      "source": [
        "### **Probando normalidad en la variable Renta**"
      ]
    },
    {
      "cell_type": "markdown",
      "metadata": {
        "id": "7xhDGL5sTvaC"
      },
      "source": [
        "**Inspección visual**"
      ]
    },
    {
      "cell_type": "code",
      "metadata": {
        "colab": {
          "base_uri": "https://localhost:8080/",
          "height": 283
        },
        "id": "48P2TZMTt6U7",
        "outputId": "72ba9c70-c090-4461-f931-8a47ca00e2cf"
      },
      "source": [
        "datos.Renta.hist(bins=50)"
      ],
      "execution_count": null,
      "outputs": [
        {
          "output_type": "execute_result",
          "data": {
            "text/plain": [
              "<matplotlib.axes._subplots.AxesSubplot at 0x7f38a2af1400>"
            ]
          },
          "metadata": {
            "tags": []
          },
          "execution_count": 6
        },
        {
          "output_type": "display_data",
          "data": {
            "image/png": "[encoded data removed]",
            "text/plain": [
              "<Figure size 432x288 with 1 Axes>"
            ]
          },
          "metadata": {
            "tags": [],
            "needs_background": "light"
          }
        }
      ]
    },
    {
      "cell_type": "markdown",
      "metadata": {
        "id": "T_uv9nc4T2uZ"
      },
      "source": [
        "**Establecemos las hipótesis**"
      ]
    },
    {
      "cell_type": "markdown",
      "metadata": {
        "id": "OFCtdVaDU08Y"
      },
      "source": [
        "$H_0$:  La muestra de la renta de los jefes del hogar proviene de una distribución normal.\n",
        "\n",
        "$H_1$: La muestra de la renta de los jefes del hogar no proviene de una distribución normal.\n",
        "\n"
      ]
    },
    {
      "cell_type": "code",
      "metadata": {
        "colab": {
          "base_uri": "https://localhost:8080/"
        },
        "id": "BcK-3toWt8VI",
        "outputId": "5e4400b3-6aac-4a0b-ec39-0eaf49ae0e41"
      },
      "source": [
        "normaltest(datos.Renta)"
      ],
      "execution_count": null,
      "outputs": [
        {
          "output_type": "execute_result",
          "data": {
            "text/plain": [
              "NormaltestResult(statistic=152380.75803960307, pvalue=0.0)"
            ]
          },
          "metadata": {
            "tags": []
          },
          "execution_count": 7
        }
      ]
    },
    {
      "cell_type": "code",
      "metadata": {
        "colab": {
          "base_uri": "https://localhost:8080/"
        },
        "id": "hTbXjfE9t-mf",
        "outputId": "db808344-848b-48a1-8dea-7977cfaa373f"
      },
      "source": [
        "stats_test, p_valor = normaltest(datos.Renta)\r\n",
        "print(stats_test)\r\n",
        "print(p_valor)"
      ],
      "execution_count": null,
      "outputs": [
        {
          "output_type": "stream",
          "text": [
            "152380.75803960307\n",
            "0.0\n"
          ],
          "name": "stdout"
        }
      ]
    },
    {
      "cell_type": "markdown",
      "metadata": {
        "id": "I-Xlk46vVs5C"
      },
      "source": [
        "<font color='red'> Rechazamos $H_0$ si el $p$-valor $\\leq \\alpha$ </font>"
      ]
    },
    {
      "cell_type": "code",
      "metadata": {
        "colab": {
          "base_uri": "https://localhost:8080/"
        },
        "id": "Wf60vJu1uAn2",
        "outputId": "c302f973-cfc5-4288-8a3b-2d89ccbfa303"
      },
      "source": [
        "p_valor <= significancia"
      ],
      "execution_count": null,
      "outputs": [
        {
          "output_type": "execute_result",
          "data": {
            "text/plain": [
              "True"
            ]
          },
          "metadata": {
            "tags": []
          },
          "execution_count": 9
        }
      ]
    },
    {
      "cell_type": "markdown",
      "metadata": {
        "id": "P6WAIe32BPgd"
      },
      "source": [
        "Observe que <font color='red'>$p-\\textrm{valor} \\leq \\alpha$</font>, por lo tanto tenemos suficiente evidencia en la muestra para <font color='red'>rechazar $H_0$</font>."
      ]
    },
    {
      "cell_type": "markdown",
      "metadata": {
        "id": "RdFCOdlLXXkD"
      },
      "source": [
        "<font color='blue'>**Conclusión:** Con un nivel de significancia del 5% podemos concluir que la muestra de la renta de los jefes del hogar NO proviene de una distribución normal.</font>"
      ]
    },
    {
      "cell_type": "markdown",
      "metadata": {
        "id": "7UCnRtdIYjyZ"
      },
      "source": [
        "### **Probando normalidad en la variable Altura**"
      ]
    },
    {
      "cell_type": "markdown",
      "metadata": {
        "id": "bkJDtZd3Yv3t"
      },
      "source": [
        "**Inspección visual**"
      ]
    },
    {
      "cell_type": "code",
      "metadata": {
        "colab": {
          "base_uri": "https://localhost:8080/",
          "height": 283
        },
        "id": "nurswaA-uDeO",
        "outputId": "3e17f06a-c6c5-4915-a6cd-6fb33fc718c5"
      },
      "source": [
        "datos.Altura.hist(bins=50)"
      ],
      "execution_count": null,
      "outputs": [
        {
          "output_type": "execute_result",
          "data": {
            "text/plain": [
              "<matplotlib.axes._subplots.AxesSubplot at 0x7f38a29d2080>"
            ]
          },
          "metadata": {
            "tags": []
          },
          "execution_count": 10
        },
        {
          "output_type": "display_data",
          "data": {
            "image/png": "[encoded data removed]",
            "text/plain": [
              "<Figure size 432x288 with 1 Axes>"
            ]
          },
          "metadata": {
            "tags": [],
            "needs_background": "light"
          }
        }
      ]
    },
    {
      "cell_type": "markdown",
      "metadata": {
        "id": "Rg0WeKKsY5mL"
      },
      "source": [
        "**Establecemos las hipótesis**"
      ]
    },
    {
      "cell_type": "markdown",
      "metadata": {
        "id": "DjQHKvH7Y8i0"
      },
      "source": [
        "$H_0$:  La muestra de la altura de los jefes del hogar proviene de una distribución normal.\n",
        "\n",
        "$H_1$: La muestra de la altura de los jefes del hogar no proviene de una distribución normal."
      ]
    },
    {
      "cell_type": "code",
      "metadata": {
        "colab": {
          "base_uri": "https://localhost:8080/"
        },
        "id": "HKWxQcQ3uFPT",
        "outputId": "7c2073f7-a6f8-4652-fce6-3c55223e08f9"
      },
      "source": [
        "normaltest(datos.Altura)"
      ],
      "execution_count": null,
      "outputs": [
        {
          "output_type": "execute_result",
          "data": {
            "text/plain": [
              "NormaltestResult(statistic=0.19973093957002253, pvalue=0.9049591541967501)"
            ]
          },
          "metadata": {
            "tags": []
          },
          "execution_count": 11
        }
      ]
    },
    {
      "cell_type": "code",
      "metadata": {
        "colab": {
          "base_uri": "https://localhost:8080/"
        },
        "id": "iGcBbDqSuGft",
        "outputId": "8e8ce244-ae71-4ae4-b4d2-cdb427428f85"
      },
      "source": [
        "stats_test, p_valor = normaltest(datos.Altura)\r\n",
        "print(stats_test)\r\n",
        "print(p_valor)"
      ],
      "execution_count": null,
      "outputs": [
        {
          "output_type": "stream",
          "text": [
            "0.19973093957002253\n",
            "0.9049591541967501\n"
          ],
          "name": "stdout"
        }
      ]
    },
    {
      "cell_type": "markdown",
      "metadata": {
        "id": "DGrXlQwKZjOH"
      },
      "source": [
        "<font color='red'> Rechazamos $H_0$ si el $p$-valor $\\leq \\alpha$ </font>"
      ]
    },
    {
      "cell_type": "code",
      "metadata": {
        "colab": {
          "base_uri": "https://localhost:8080/"
        },
        "id": "8SXAB4TbuIst",
        "outputId": "7c7c64fc-c581-4ed7-81e3-872220380b12"
      },
      "source": [
        "p_valor <= significancia"
      ],
      "execution_count": null,
      "outputs": [
        {
          "output_type": "execute_result",
          "data": {
            "text/plain": [
              "False"
            ]
          },
          "metadata": {
            "tags": []
          },
          "execution_count": 13
        }
      ]
    },
    {
      "cell_type": "markdown",
      "metadata": {
        "id": "vr1BXwdPC-x6"
      },
      "source": [
        "Observe que <font color='red'>$p-\\textrm{valor} > \\alpha$</font>, por lo tanto NO tenemos suficiente evidencia en la muestra para rechazar $H_0$."
      ]
    },
    {
      "cell_type": "markdown",
      "metadata": {
        "id": "D-xzeF6jZxWZ"
      },
      "source": [
        "<font color='blue'>**Conclusión:** Con un nivel de significancia del 5% concluimos que la muestra de la altura de los jefes del hogar proviene de una distribución normal.</font>"
      ]
    },
    {
      "cell_type": "markdown",
      "metadata": {
        "id": "tZOLwQGWIJHf"
      },
      "source": [
        "## <font color=green>2.2 Pruebas de hipótesis para  parámetros </font>\n",
        "\n",
        "***"
      ]
    },
    {
      "cell_type": "markdown",
      "metadata": {
        "id": "h7tW10qUHYsi"
      },
      "source": [
        "¿Los jefes del hogar tienen una **altura promedio** de 1,70 cm?\n",
        "\n",
        "**Observe que el parámetro de interés es la média $(\\mu)$**"
      ]
    },
    {
      "cell_type": "markdown",
      "metadata": {
        "id": "BAW_fVwjZ7Yz"
      },
      "source": [
        "### **Conceptos importantes**"
      ]
    },
    {
      "cell_type": "markdown",
      "metadata": {
        "id": "0qmkSCQj-AF4"
      },
      "source": [
        "> <b>Estadística de prueba</b>: Es una estadística o variable aleatoria que se deriva del estimador puntual del parámetro de interés. En ella se comparan la hipótesis postulada y los datos observados. \n",
        "\n",
        "> <b> Región Crítica </b>: Los valores de la estadística de prueba que conllevan al rechazo de $H_0$.\n"
      ]
    },
    {
      "cell_type": "markdown",
      "metadata": {
        "id": "y5KC8T-zNM3Q"
      },
      "source": [
        "### **Etapas básicas de una prueba**"
      ]
    },
    {
      "cell_type": "markdown",
      "metadata": {
        "id": "HfYgLTWAND9k"
      },
      "source": [
        "**Paso 1: Establecer las hipótesis $H_0$ y $H_1$**;\n",
        "\n",
        " <font color='red'>Puntos importantes</font>\n",
        "> 1. **La afirmación o declaración sobre el parámetro poblacional** $(\\mu)$ y que en general es vinculada a un valor de referencia, o a una especificación estándar o histórica, debe ser formulada como **la hipótesis nula** $H_0$.\n",
        "> 2. De manera general, la afirmación sobre el parámetro poblacional $(\\mu)$ que **sospechamos que es verdadera**, debe ser formulada como **hipótesis alterna** $H_1$. \n",
        "> 3. Se pueden plantear las siguientes pruebas de hipótesis:\n",
        "\n",
        "> - Prueba de hipótesis <font color='red'>bilateral</b></font>\n",
        "$$\n",
        "\\begin{cases}\n",
        "H_0: \\mu = \\mu_0   \\\\\n",
        "H_1: \\mu \\neq  \\mu_0\n",
        "\\end{cases}\n",
        "$$\n",
        "\n",
        ">- Prueba de hipótesis <font color='red'>unilateral a derecha</font>\n",
        "$$\n",
        "\\begin{cases}\n",
        "H_0: \\mu \\leq \\mu_0   \\\\\n",
        "H_1: \\mu > \\mu_0\n",
        "\\end{cases}\n",
        "$$\n",
        "\n",
        "> - Prueba de hipótesis <font color='red'>unilateral a izquierda</font>\n",
        "$$\n",
        "\\begin{cases}\n",
        "H_0: \\mu \\geq \\mu_0   \\\\\n",
        "H_1: \\mu < \\mu_0\n",
        "\\end{cases}\n",
        "$$\n",
        "\n",
        "> 4. En una prueba de hipótesis bilateral, la región de no rechazo corresponde a un intervalo de confianza para el parámetro de interés."
      ]
    },
    {
      "cell_type": "markdown",
      "metadata": {
        "id": "L7hRU18yNSFH"
      },
      "source": [
        "**Paso 2: Fijar el nivel de significancia $(\\alpha)$ de la prueba**\n",
        "\n",
        "<font color='red'>Puntos importantes</font>\n",
        "> 1. El nivel de significancia $(\\alpha)$ es el tamaño de la región de rechazo.\n",
        "> 2. Los valores más frecuentes usados para $\\alpha$ son $1\\%$, $5\\%$ y $10\\%$\n",
        "> 3. El complemento de la región de rechazo $(1-\\alpha)$ corresponde al nivel de confianza.\n",
        "\n",
        "\n"
      ]
    },
    {
      "cell_type": "markdown",
      "metadata": {
        "id": "4HGoWAejhpbl"
      },
      "source": [
        "![Nivel de Significancia](https://caelum-online-public.s3.amazonaws.com/ESP-1778-estadistica-con-python-test-hipotesis/Nivel_Significancia_mu.png)"
      ]
    },
    {
      "cell_type": "markdown",
      "metadata": {
        "id": "zcLxQDjNUBUZ"
      },
      "source": [
        "**Paso 3: Determinar la distribución de muestreo y Estadística de Prueba adecuada**\n",
        "\n",
        "<font color='red'>Puntos importantes</font>\n",
        "> 1. Si la muestra aleatoria proviene de una **distribución normal con varianza conocida** $(\\sigma^2)$, la estadística de prueba es\n",
        "$$ Z = \\frac{\\overline{X} - \\mu_0}{\\sigma/\\sqrt{n}}  \\sim N(0,1),$$\n",
        "siendo $\\overline{X}$ la media muestra, $\\mu_0$ un valor de referencia.\n",
        "> 2. Si la muestra aleatoria proviene de una **distribución normal con varianza desconocida** $(\\sigma^2)$, la estadística de prueba es\n",
        "$$ T = \\frac{\\overline{X} - \\mu_0}{S/\\sqrt{n}}  \\sim t(n-1),$$\n",
        "donde $n-1$ son los grados de libertad de la distribución t-Student.\n",
        "> 3. Si no sabemos de que distribución proviene la muestra, pero $n$ es suficientemente grande $(n\\geq 30)$ podemos utilizar una de las estadística anteriores, conforme lo establece el teorema del límite central (TLC)\n",
        "> 4. Si no sabemos de que distribución proviene la muestra y $n$ es pequeño $(n<30)$ debemos aumentar el tamaño de la muestra o usar pruebas no paramétricas. \n",
        "\n",
        "\n",
        "\n",
        "\n"
      ]
    },
    {
      "cell_type": "markdown",
      "metadata": {
        "id": "gYPou8xqMdRW"
      },
      "source": [
        "<font color ='red'> Resumen </font>"
      ]
    },
    {
      "cell_type": "markdown",
      "metadata": {
        "id": "453rzdH_ikt8"
      },
      "source": [
        "![Resumen una media](https://caelum-online-public.s3.amazonaws.com/ESP-1778-estadistica-con-python-test-hipotesis/Resumen_mu.png)"
      ]
    },
    {
      "cell_type": "markdown",
      "metadata": {
        "id": "oaHjH0b0Tds7"
      },
      "source": [
        "**Paso 4: Determinar la Región crítica.**\n",
        "\n",
        "<font color='red'>Puntos importantes</font>\n",
        "> 1. La localización de la región crítica depende de la forma de la hipótesis alterna $(H_1)$.\n",
        "> 2. Si $H_1: \\mu \\neq \\mu_0$, la región crítica se divide en las dos colas de la distribución de la estadística de prueba, o sea que una parte estará en la cola derecha y la otra en la cola izquierda.\n",
        "> 3. Si $H_1: \\mu > \\mu_0$, la región crítica se encuentra en la cola derecha de la distribución de la estadística de prueba.  \n",
        "> 4.  Si $H_1: \\mu < \\mu_0$, la región crítica se encuentra en la cola izquierda de la distribución de la estadística de prueba.\n",
        "\n"
      ]
    },
    {
      "cell_type": "markdown",
      "metadata": {
        "id": "HiNjSN0vjG_p"
      },
      "source": [
        "![Region Critica una media](https://caelum-online-public.s3.amazonaws.com/ESP-1778-estadistica-con-python-test-hipotesis/Region_Critica_mu.png)"
      ]
    },
    {
      "cell_type": "markdown",
      "metadata": {
        "id": "lpo6cHANchf1"
      },
      "source": [
        "**Paso 5: Tomar la Decisión y Concluir**\n",
        "\n",
        "<font color='red'>Puntos importantes</font>\n",
        "\n",
        "Podemos decidir si rechazamos o no $H_0$ usando dos criterios:\n",
        "> 1. Si la Estadística de prueba $(Z \\, \\textrm{o}\\, T)$  cae en la región de rechazo, entonces rechazamos $H_0$. \n",
        "> 2. Si $p$-valor $\\leq \\alpha$ rechazamos $H_0$. El cálculo del $p$-valor está ligado al tipo de hipótesis.  Asumiendo que $W$ es una estadística de prueba ($Z$ o $T$) cualquiera, tenemos que\n",
        ">- Prueba <font color='red'>bilateral $(H_1: \\mu \\neq \\mu_0)$</font>\n",
        "\n",
        "$$p-\\textrm{valor}= 2\\times P(W \\geq Z) = 2\\times [1-P(W < Z) ] $$.\n",
        "\n",
        ">- Prueba <font color='red'>Unilateral a derecha $(H_1: \\mu > \\mu_0)$</font>\n",
        "\n",
        "$$p-\\textrm{valor}= P(W \\geq Z)= 1-P(W < Z)$$\n",
        "\n",
        ">- Prueba <font color='red'>Unilateral a izquierda $(H_1: \\mu < \\mu_0)$</font> \n",
        "\n",
        "$$p-\\textrm{valor}= P(W \\leq Z)$$.\n"
      ]
    }
  ]
}