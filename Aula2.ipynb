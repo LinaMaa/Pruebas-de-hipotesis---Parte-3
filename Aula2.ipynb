{
  "nbformat": 4,
  "nbformat_minor": 0,
  "metadata": {
    "colab": {
      "name": "Aula2.ipynb",
      "provenance": [],
      "collapsed_sections": [],
      "toc_visible": true
    },
    "kernelspec": {
      "display_name": "Python 3",
      "language": "python",
      "name": "python3"
    },
    "language_info": {
      "codemirror_mode": {
        "name": "ipython",
        "version": 3
      },
      "file_extension": ".py",
      "mimetype": "text/x-python",
      "name": "python",
      "nbconvert_exporter": "python",
      "pygments_lexer": "ipython3",
      "version": "3.6.5"
    }
  },
  "cells": [
    {
      "cell_type": "markdown",
      "metadata": {
        "id": "WvMflodMjQKe"
      },
      "source": [
        "# <font color=green size=10>CURSO DE ESTADÍSTICA - PARTE 3</font>\n",
        "\n",
        "***"
      ]
    },
    {
      "cell_type": "markdown",
      "metadata": {
        "id": "miGOADKYpsjn"
      },
      "source": [
        "# <font color=green>3. PRUEBA DE HIPÓTESIS PARA UNA MEDIA </font>\n",
        "***"
      ]
    },
    {
      "cell_type": "markdown",
      "metadata": {
        "id": "rUKgxZ7_psjp"
      },
      "source": [
        "## <font color=green>3.1 Prueba Bilateral</font>\n",
        "***"
      ]
    },
    {
      "cell_type": "markdown",
      "metadata": {
        "id": "1jkckT992-i6"
      },
      "source": [
        "### **Problema**"
      ]
    },
    {
      "cell_type": "markdown",
      "metadata": {
        "id": "L0SH1itkm-4N"
      },
      "source": [
        "Una máquina que llena **paquetes de café** estaba regulada para llenarlos con un **peso medio de $500 \\,g$**.  Después de un tiempo de uso, la máquina se ha desregulado y se desea saber cuál es el **peso medio actual** $\\mu$ con el que la máquina llena los paquetes de café. Cuando el volumen medio cae debajo de $500 \\,g$ la empresa se preocupa en perder ventas y tener problemas con los organos fiscalizadores. Por otro lado, cuando el valumen pasa los $500 \\,g$ la empresa empieza a preocuparse con pérdidas en el proceso de producción. \n",
        "\n",
        "El sector de control de calidad de la empresa, extrae periodicamente **muestras de 50 paquetes** para monitorear el proceso de producción. Para cada muestra, realiza una **prueba de hipótesis** para evaluar si la máquina se desajustó. En todos los casos, el equipo de control de calidad asumió un **nivel de significancia del 5%**. \n",
        "\n",
        "Suponga que una muestra **muestra de 50 paquetes** tuvo un peso promedio de $503.24 \\, g$. ¿Es este valor medio muestral suficientemente mayor que $500 \\, g$ para hacernos rechazar la hipótesis de que el promedio del proceso es $500 \\, g$ al **nivel de significancia del 5%**? \n",
        "\n",
        "Asuma que el peso de los paquetes que llena la máquina se distribuye normalmente con una desviacion estándar de $4.5 \\, g$."
      ]
    },
    {
      "cell_type": "markdown",
      "metadata": {
        "id": "idUBrxyIlWT0"
      },
      "source": [
        "Si denotamos por \\\\\n",
        "<font color='blue'>$\\mu$</font> $\\Rightarrow$ el peso medio de los paquetes de cafe. \\\\\n",
        "<font color='red'>$\\mu_0$</font> $\\Rightarrow$ el peso medio de referencia. \\\\\n",
        "\n",
        "las hipótesis que queremos probar son \\\\\n",
        "$\n",
        "\\begin{cases}\n",
        "H_0: \\mu = 500\\\\\n",
        "H_1: \\mu \\neq 500\n",
        "\\end{cases}\n",
        "$\n",
        "\n",
        "observe que <font color='red'>$\\mu_0 = 500$.</font>\n",
        "\n",
        "***\n"
      ]
    },
    {
      "cell_type": "markdown",
      "metadata": {
        "id": "uAFSQzzE4f8G"
      },
      "source": [
        "**Datos del problema**"
      ]
    },
    {
      "cell_type": "code",
      "metadata": {
        "id": "wOEo46MNsmX6"
      },
      "source": [
        "muestra_Cafe = [509, 505, 495, 510, 496, 509, 497, 502, 503, 505, \n",
        "                501, 505, 510, 505, 504, 497, 506, 506, 508, 505,\n",
        "                497, 504, 500, 498, 506, 496, 508, 497, 503, 501,\n",
        "                503, 506, 499, 498, 509, 507, 503, 499, 509, 495,\n",
        "                502, 505, 504, 509, 508, 501, 505, 497, 508, 507]"
      ],
      "execution_count": null,
      "outputs": []
    },
    {
      "cell_type": "code",
      "metadata": {
        "id": "sytomW4yuTJM"
      },
      "source": [
        "import pandas as pd "
      ],
      "execution_count": null,
      "outputs": []
    },
    {
      "cell_type": "code",
      "metadata": {
        "colab": {
          "base_uri": "https://localhost:8080/",
          "height": 202
        },
        "id": "XAP-CmA-uWlI",
        "outputId": "3ece8d5b-faba-43cd-dac0-8764078d015d"
      },
      "source": [
        "muestra_Cafe = pd.DataFrame(muestra_Cafe,columns=[\"muestra_Cafe\"])\r\n",
        "muestra_Cafe.head()"
      ],
      "execution_count": null,
      "outputs": [
        {
          "output_type": "execute_result",
          "data": {
            "text/html": [
              "<div>\n",
              "<style scoped>\n",
              "    .dataframe tbody tr th:only-of-type {\n",
              "        vertical-align: middle;\n",
              "    }\n",
              "\n",
              "    .dataframe tbody tr th {\n",
              "        vertical-align: top;\n",
              "    }\n",
              "\n",
              "    .dataframe thead th {\n",
              "        text-align: right;\n",
              "    }\n",
              "</style>\n",
              "<table border=\"1\" class=\"dataframe\">\n",
              "  <thead>\n",
              "    <tr style=\"text-align: right;\">\n",
              "      <th></th>\n",
              "      <th>muestra_Cafe</th>\n",
              "    </tr>\n",
              "  </thead>\n",
              "  <tbody>\n",
              "    <tr>\n",
              "      <th>0</th>\n",
              "      <td>509</td>\n",
              "    </tr>\n",
              "    <tr>\n",
              "      <th>1</th>\n",
              "      <td>505</td>\n",
              "    </tr>\n",
              "    <tr>\n",
              "      <th>2</th>\n",
              "      <td>495</td>\n",
              "    </tr>\n",
              "    <tr>\n",
              "      <th>3</th>\n",
              "      <td>510</td>\n",
              "    </tr>\n",
              "    <tr>\n",
              "      <th>4</th>\n",
              "      <td>496</td>\n",
              "    </tr>\n",
              "  </tbody>\n",
              "</table>\n",
              "</div>"
            ],
            "text/plain": [
              "   muestra_Cafe\n",
              "0           509\n",
              "1           505\n",
              "2           495\n",
              "3           510\n",
              "4           496"
            ]
          },
          "metadata": {
            "tags": []
          },
          "execution_count": 16
        }
      ]
    },
    {
      "cell_type": "code",
      "metadata": {
        "id": "mQyE68RR23HJ"
      },
      "source": [
        "desviacion = 4.5\n",
        "mu_0 = 500\n",
        "n = 50\n",
        "media_muestral = 503.24\n",
        "significancia = 0.05\n",
        "confianza = 1 - significancia    "
      ],
      "execution_count": null,
      "outputs": []
    },
    {
      "cell_type": "markdown",
      "metadata": {
        "id": "ghy6CCqEla2R"
      },
      "source": [
        "#### <b> Haciendo cálculos </b>"
      ]
    },
    {
      "cell_type": "markdown",
      "metadata": {
        "id": "lKDC-IpQ5iOc"
      },
      "source": [
        "**Paso 1: Establecer las hipótesis $H_0$ y $H_1$**\n",
        "\n",
        "$\\mu\\Rightarrow$ el peso medio de los paquetes de cafe.\n",
        "\n",
        "\n",
        "$\n",
        "\\begin{cases}\n",
        "H_0: \\mu = 500   \\\\\n",
        "H_1: \\mu \\neq 500\n",
        "\\end{cases}\n",
        "$\n",
        "\n",
        "En este caso tenemos que $\\mu_0 = 500 $ \n",
        "\n",
        "  "
      ]
    },
    {
      "cell_type": "markdown",
      "metadata": {
        "id": "EhJXUtAK6lWz"
      },
      "source": [
        "**Paso 2: Fijar el nivel de significancia $\\alpha$ de la prueba**\n",
        "\n",
        "$\\alpha = 0.05$"
      ]
    },
    {
      "cell_type": "markdown",
      "metadata": {
        "id": "FBBzq33C7TGD"
      },
      "source": [
        "**Paso 3: Determinar la distribución de muestreo y Estadística de Prueba adecuada**"
      ]
    },
    {
      "cell_type": "markdown",
      "metadata": {
        "id": "kRJtmw9YjlJQ"
      },
      "source": [
        "![Resumen una media](https://caelum-online-public.s3.amazonaws.com/ESP-1778-estadistica-con-python-test-hipotesis/Resumen_mu.png)"
      ]
    },
    {
      "cell_type": "markdown",
      "metadata": {
        "id": "jr1AxSL4zN2W"
      },
      "source": [
        "Como la muestra es normal y $\\sigma$ es conocido, **la estadística de prueba adecuada** es \n",
        "$$Z=\\frac{\\overline{X} - \\mu_0}{\\sigma/\\sqrt{n}}$$ \n",
        "\n",
        "Sabemos  que $Z$ se distribuye aproximadamente como una normal estándar."
      ]
    },
    {
      "cell_type": "code",
      "metadata": {
        "id": "J1Flr98NSTum"
      },
      "source": [
        "import numpy as np"
      ],
      "execution_count": null,
      "outputs": []
    },
    {
      "cell_type": "code",
      "metadata": {
        "colab": {
          "base_uri": "https://localhost:8080/"
        },
        "id": "cUTiuNBCu09D",
        "outputId": "5b5953e1-08ed-4fad-9a29-aa79cb126448"
      },
      "source": [
        "Z = (media_muestral - mu_0)/(desviacion/np.sqrt(n))\r\n",
        "Z"
      ],
      "execution_count": null,
      "outputs": [
        {
          "output_type": "execute_result",
          "data": {
            "text/plain": [
              "5.091168824543157"
            ]
          },
          "metadata": {
            "tags": []
          },
          "execution_count": 19
        }
      ]
    },
    {
      "cell_type": "markdown",
      "metadata": {
        "id": "AaWGL95c-noC"
      },
      "source": [
        "**Paso 4: Determinar la región crítica**"
      ]
    },
    {
      "cell_type": "markdown",
      "metadata": {
        "id": "mUIH0kZDj5BO"
      },
      "source": [
        "![Region Critica Bilateral](https://caelum-online-public.s3.amazonaws.com/ESP-1778-estadistica-con-python-test-hipotesis/Region_Critica_Bilateral.png)"
      ]
    },
    {
      "cell_type": "markdown",
      "metadata": {
        "id": "OzU1qYLzDaax"
      },
      "source": [
        "Obteniendo $z_{\\alpha/2}$\n",
        "\n",
        "https://docs.scipy.org/doc/scipy/reference/generated/scipy.stats.norm.html"
      ]
    },
    {
      "cell_type": "code",
      "metadata": {
        "id": "DMoXFzqGSPK7"
      },
      "source": [
        "from scipy.stats import norm"
      ],
      "execution_count": null,
      "outputs": []
    },
    {
      "cell_type": "code",
      "metadata": {
        "colab": {
          "base_uri": "https://localhost:8080/"
        },
        "id": "iU5P6cv_u2-8",
        "outputId": "756b7bfa-db27-42a3-c0fe-f1ee26b8966b"
      },
      "source": [
        "z_alpha_2 = norm.ppf(0.975)\r\n",
        "z_alpha_2"
      ],
      "execution_count": null,
      "outputs": [
        {
          "output_type": "execute_result",
          "data": {
            "text/plain": [
              "1.959963984540054"
            ]
          },
          "metadata": {
            "tags": []
          },
          "execution_count": 21
        }
      ]
    },
    {
      "cell_type": "markdown",
      "metadata": {
        "id": "dmfA1mA8Ewll"
      },
      "source": [
        "Por lo tanto, la Región Crítica es como sigue\n"
      ]
    },
    {
      "cell_type": "markdown",
      "metadata": {
        "id": "S4p5Mg8_kYsv"
      },
      "source": [
        "![Valor Critico Bilateral](https://caelum-online-public.s3.amazonaws.com/ESP-1778-estadistica-con-python-test-hipotesis/Valor_Critico_Bilateral.png)"
      ]
    },
    {
      "cell_type": "markdown",
      "metadata": {
        "id": "vX6wcRBxFdmJ"
      },
      "source": [
        "**Paso 5: Tomar la decisión y concluir**\n",
        "\n",
        "<font color='red'>¿$Z = 5,09$ está en la Región Crítica?</font> o equivalentemente <font color='red'>¿ $Z \\leq -1,96$ ou $Z \\geq 1,96$?</font>\n",
        "\n",
        "\n"
      ]
    },
    {
      "cell_type": "code",
      "metadata": {
        "colab": {
          "base_uri": "https://localhost:8080/"
        },
        "id": "ZUcnOa3Gu4sQ",
        "outputId": "520c4ad3-f9c0-4662-f0f7-04a7e45360cb"
      },
      "source": [
        "Z >= z_alpha_2"
      ],
      "execution_count": null,
      "outputs": [
        {
          "output_type": "execute_result",
          "data": {
            "text/plain": [
              "True"
            ]
          },
          "metadata": {
            "tags": []
          },
          "execution_count": 22
        }
      ]
    },
    {
      "cell_type": "markdown",
      "metadata": {
        "id": "zqz_NMqvgGSK"
      },
      "source": [
        "Observe que <font color='red'>$Z \\geq 1,96$</font>, por lo tanto hay suficiente evidencia en la muestra para <font color='red'>rechazar $H_0$</font>."
      ]
    },
    {
      "cell_type": "markdown",
      "metadata": {
        "id": "rNkgyHYxkkGb"
      },
      "source": [
        "![Decision Cafe](https://caelum-online-public.s3.amazonaws.com/ESP-1778-estadistica-con-python-test-hipotesis/Decision_Cafe.png)"
      ]
    },
    {
      "cell_type": "markdown",
      "metadata": {
        "id": "yfnKBJ_bbIaY"
      },
      "source": [
        "<font color='red'>Rechazamos $H_0$ si $p$-valor $\\leq \\alpha$.</font>\n",
        "\n"
      ]
    },
    {
      "cell_type": "markdown",
      "metadata": {
        "id": "ItC8cs3AfHrU"
      },
      "source": [
        "Recordemos que cuando la prueba es bilateral $(H_1: \\mu \\neq 500)$ el $p$-valor se calcula como \n",
        "\n",
        "$$p-\\textrm{valor}= 2\\times P(W \\geq Z) = 2\\times [1-P(W < Z)]$$."
      ]
    },
    {
      "cell_type": "code",
      "metadata": {
        "colab": {
          "base_uri": "https://localhost:8080/"
        },
        "id": "kv23rFDMu8Bz",
        "outputId": "f4f50706-95d5-482b-b968-17f9c7a55465"
      },
      "source": [
        "p_valor = 2*(norm.sf(Z))\r\n",
        "p_valor "
      ],
      "execution_count": null,
      "outputs": [
        {
          "output_type": "execute_result",
          "data": {
            "text/plain": [
              "3.558629930076567e-07"
            ]
          },
          "metadata": {
            "tags": []
          },
          "execution_count": 23
        }
      ]
    },
    {
      "cell_type": "code",
      "metadata": {
        "colab": {
          "base_uri": "https://localhost:8080/"
        },
        "id": "9KeXt7T2u73H",
        "outputId": "a9075d0c-aa4f-4f1c-85e4-5c9032e15020"
      },
      "source": [
        "p_valor = 2*(1-norm.cdf(Z))\r\n",
        "p_valor "
      ],
      "execution_count": null,
      "outputs": [
        {
          "output_type": "execute_result",
          "data": {
            "text/plain": [
              "3.5586299307333036e-07"
            ]
          },
          "metadata": {
            "tags": []
          },
          "execution_count": 24
        }
      ]
    },
    {
      "cell_type": "code",
      "metadata": {
        "colab": {
          "base_uri": "https://localhost:8080/"
        },
        "id": "dQxetzh1u7rX",
        "outputId": "4132758e-282b-45a5-d463-3314894305fd"
      },
      "source": [
        "p_valor <= significancia"
      ],
      "execution_count": null,
      "outputs": [
        {
          "output_type": "execute_result",
          "data": {
            "text/plain": [
              "True"
            ]
          },
          "metadata": {
            "tags": []
          },
          "execution_count": 25
        }
      ]
    },
    {
      "cell_type": "markdown",
      "metadata": {
        "id": "2fAfwxqHkq-H"
      },
      "source": [
        "Observe que <font color='red'>$p-\\textrm{valor} \\leq \\alpha$</font>, por lo tanto hay suficiente evidencia en la muestra para <font color='red'>rechazar $H_0$</font>."
      ]
    },
    {
      "cell_type": "markdown",
      "metadata": {
        "id": "wMd0iTA0Hj7O"
      },
      "source": [
        "<font color='blue'>**Conclusión:** Se sechaza la hipótesis nula $H_0$ de que la máquina llena los paquetes de café con un peso promedio de $500\\, g$. Entonces, deben tomarse medidas para ajustar la máquina.</font>"
      ]
    },
    {
      "cell_type": "markdown",
      "metadata": {
        "id": "YFC-ArHblwNv"
      },
      "source": [
        "#### <b>Usando biblioteca de Phyton </b>\n",
        "  "
      ]
    },
    {
      "cell_type": "markdown",
      "metadata": {
        "id": "T2JGXeFQoKiG"
      },
      "source": [
        "<font color='red'>Usando ztest</font>"
      ]
    },
    {
      "cell_type": "markdown",
      "metadata": {
        "id": "fyi8SosImslw"
      },
      "source": [
        "https://www.statsmodels.org/stable/generated/statsmodels.stats.weightstats.ztest.html"
      ]
    },
    {
      "cell_type": "code",
      "metadata": {
        "id": "3BACQdmoTUzP"
      },
      "source": [
        "from statsmodels.stats.weightstats import ztest"
      ],
      "execution_count": null,
      "outputs": []
    },
    {
      "cell_type": "code",
      "metadata": {
        "colab": {
          "base_uri": "https://localhost:8080/"
        },
        "id": "Jv5jlY2HvBcD",
        "outputId": "259520e0-37b3-4105-984e-f64b192467b8"
      },
      "source": [
        "ztest(x1=muestra_Cafe,value=mu_0,alternative='two-sided')"
      ],
      "execution_count": null,
      "outputs": [
        {
          "output_type": "execute_result",
          "data": {
            "text/plain": [
              "(array([5.10955978]), array([3.22910317e-07]))"
            ]
          },
          "metadata": {
            "tags": []
          },
          "execution_count": 28
        }
      ]
    },
    {
      "cell_type": "code",
      "metadata": {
        "colab": {
          "base_uri": "https://localhost:8080/"
        },
        "id": "jKZBrv6PvBQe",
        "outputId": "ee0e39e7-9a60-4855-d9ec-cb78ec48d2c3"
      },
      "source": [
        "z, p_valor = ztest(x1=muestra_Cafe,value=mu_0,alternative='two-sided')\r\n",
        "print(z[0])\r\n",
        "print(p_valor[0])"
      ],
      "execution_count": null,
      "outputs": [
        {
          "output_type": "stream",
          "text": [
            "5.109559775991873\n",
            "3.229103172445771e-07\n"
          ],
          "name": "stdout"
        }
      ]
    },
    {
      "cell_type": "code",
      "metadata": {
        "colab": {
          "base_uri": "https://localhost:8080/"
        },
        "id": "2KWEPIR0vAqF",
        "outputId": "43d2cb06-a0c5-4611-e392-918770628457"
      },
      "source": [
        "p_valor[0] <= significancia "
      ],
      "execution_count": null,
      "outputs": [
        {
          "output_type": "execute_result",
          "data": {
            "text/plain": [
              "True"
            ]
          },
          "metadata": {
            "tags": []
          },
          "execution_count": 30
        }
      ]
    },
    {
      "cell_type": "markdown",
      "metadata": {
        "id": "PWrm6Ile-OKQ"
      },
      "source": [
        "Observe que <font color='red'>$p-\\textrm{valor} \\leq \\alpha$</font>, por lo tanto hay suficiente evidencia en la muestra para <font color='red'>rechazar $H_0$</font>."
      ]
    },
    {
      "cell_type": "markdown",
      "metadata": {
        "id": "PRErSb35oQAT"
      },
      "source": [
        "<font color='red'>Usando DescrStatsW</font>"
      ]
    },
    {
      "cell_type": "markdown",
      "metadata": {
        "id": "BFziUDXHoeVp"
      },
      "source": [
        "https://www.statsmodels.org/dev/generated/statsmodels.stats.weightstats.DescrStatsW.html"
      ]
    },
    {
      "cell_type": "code",
      "metadata": {
        "id": "ES10RwPpTOTD"
      },
      "source": [
        "from statsmodels.stats.weightstats import DescrStatsW"
      ],
      "execution_count": null,
      "outputs": []
    },
    {
      "cell_type": "code",
      "metadata": {
        "id": "GukjGriwTN_J"
      },
      "source": [
        "test = DescrStatsW(muestra_Cafe)"
      ],
      "execution_count": null,
      "outputs": []
    },
    {
      "cell_type": "code",
      "metadata": {
        "colab": {
          "base_uri": "https://localhost:8080/"
        },
        "id": "za1OAVoRvFtu",
        "outputId": "9f63c109-460f-43b6-b608-cb1da829a54a"
      },
      "source": [
        "test.ztest_mean(value=mu_0,alternative='two-sided')"
      ],
      "execution_count": null,
      "outputs": [
        {
          "output_type": "execute_result",
          "data": {
            "text/plain": [
              "(array([5.10955978]), array([3.22910317e-07]))"
            ]
          },
          "metadata": {
            "tags": []
          },
          "execution_count": 33
        }
      ]
    },
    {
      "cell_type": "code",
      "metadata": {
        "colab": {
          "base_uri": "https://localhost:8080/"
        },
        "id": "feao08WCvHV4",
        "outputId": "d9052ec7-0c93-4293-9f67-4226d8d389e9"
      },
      "source": [
        "z,p_valor= test.ztest_mean(value=mu_0,alternative='two-sided')\r\n",
        "print(z[0])\r\n",
        "print(p_valor[0])"
      ],
      "execution_count": null,
      "outputs": [
        {
          "output_type": "stream",
          "text": [
            "5.109559775991874\n",
            "3.2291031724457596e-07\n"
          ],
          "name": "stdout"
        }
      ]
    },
    {
      "cell_type": "code",
      "metadata": {
        "colab": {
          "base_uri": "https://localhost:8080/"
        },
        "id": "nqRsaP36vI87",
        "outputId": "4867b09a-4ee2-4c68-a3e5-6fef364b5498"
      },
      "source": [
        "p_valor[0] <= significancia"
      ],
      "execution_count": null,
      "outputs": [
        {
          "output_type": "execute_result",
          "data": {
            "text/plain": [
              "True"
            ]
          },
          "metadata": {
            "tags": []
          },
          "execution_count": 35
        }
      ]
    },
    {
      "cell_type": "markdown",
      "metadata": {
        "id": "qS_DClPC-cd-"
      },
      "source": [
        "Observe que <font color='red'>$p-\\textrm{valor} \\leq \\alpha$</font>, por lo tanto hay suficiente evidencia en la muestra para <font color='red'>rechazar $H_0$</font>."
      ]
    },
    {
      "cell_type": "markdown",
      "metadata": {
        "id": "T4qLLaN3p5Fp"
      },
      "source": [
        "<font color='blue'>**Conclusión:** Se sechaza la hipótesis nula $H_0$ de que la máquina llena los paquetes de café con un peso promedio de $500\\, g$. Entonces, deben tomarse medidas para ajustar la máquina.</font>"
      ]
    },
    {
      "cell_type": "markdown",
      "metadata": {
        "id": "W2KgNfIEph0w"
      },
      "source": [
        "### **Resumiendo** "
      ]
    },
    {
      "cell_type": "markdown",
      "metadata": {
        "id": "5Gq0BAUzk79q"
      },
      "source": [
        "![Bilateral](https://caelum-online-public.s3.amazonaws.com/ESP-1778-estadistica-con-python-test-hipotesis/Bilateral.png)"
      ]
    }
  ]
}